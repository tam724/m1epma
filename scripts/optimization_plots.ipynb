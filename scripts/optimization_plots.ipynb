{
 "cells": [
  {
   "cell_type": "code",
   "execution_count": 1,
   "metadata": {},
   "outputs": [],
   "source": [
    "import numpy as np\n",
    "import matplotlib.pyplot as plt\n",
    "import pickle\n",
    "\n",
    "plt.rc('text', usetex=True)\n",
    "plt.rc('font', family='serif')\n",
    "plt.rc('xtick', labelsize='x-small')\n",
    "plt.rc('ytick', labelsize='x-small')\n",
    "\n",
    "plt.rc('axes', titlesize='small')     # fontsize of the axes title\n",
    "plt.rc('axes', labelsize='small')    # fontsize of the x and y labels\n",
    "plt.rc('legend', fontsize='small')    # legend fontsize"
   ]
  },
  {
   "cell_type": "code",
   "execution_count": 2,
   "metadata": {},
   "outputs": [],
   "source": [
    "with open(\"code/scripts/optimization_plots_same_resolution_40.pkl\", \"rb\") as file:\n",
    "    data40 = pickle.load(file)\n",
    "with open(\"code/scripts/optimization_plots_same_resolution_80.pkl\", \"rb\") as file:\n",
    "    data80 = pickle.load(file)\n",
    "with open(\"code/scripts/optimization_plots_same_resolution_160.pkl\", \"rb\") as file:\n",
    "    data160 = pickle.load(file)"
   ]
  },
  {
   "cell_type": "code",
   "execution_count": 3,
   "metadata": {},
   "outputs": [],
   "source": [
    "p1_40 = [d[0][0] for d in data40[0][1:14]]\n",
    "p2_40 = [d[0][1] for d in data40[0][1:14]]\n",
    "p3_40 = [d[0][2] for d in data40[0][1:14]]\n",
    "p4_40 = [d[0][3] for d in data40[0][1:14]]\n",
    "\n",
    "p1_80 = [d[0][0] for d in data80[0][1:14]]\n",
    "p2_80 = [d[0][1] for d in data80[0][1:14]]\n",
    "p3_80 = [d[0][2] for d in data80[0][1:14]]\n",
    "p4_80 = [d[0][3] for d in data80[0][1:14]]\n",
    "\n",
    "p1_160 = [d[0][0] for d in data160[0][1:14]]\n",
    "p2_160 = [d[0][1] for d in data160[0][1:14]]\n",
    "p3_160 = [d[0][2] for d in data160[0][1:14]]\n",
    "p4_160 = [d[0][3] for d in data160[0][1:14]]"
   ]
  },
  {
   "cell_type": "code",
   "execution_count": 4,
   "metadata": {},
   "outputs": [
    {
     "data": {
      "text/plain": [
       "[0.36, 0.94, 0.61, 0.14]"
      ]
     },
     "execution_count": 4,
     "metadata": {},
     "output_type": "execute_result"
    }
   ],
   "source": [
    "true_parameters = np.array(\n",
    "    [\n",
    "        [0.78, 0.72, 0.71, 0.65, 0.2 , 0.09, 0.97, 0.17, 0.62, 0.85],\n",
    "        [0.03, 0.16, 0.78, 0.28, 0.23, 0.45, 0.09, 0.06, 0.97, 0.67],\n",
    "        [0.6 , 0.49, 0.09, 0.48, 0.07, 0.27, 0.76, 0.95, 0.03, 0.09],\n",
    "        [0.96, 0.64, 0.4 , 0.26, 0.8 , 0.93, 0.19, 0.9 , 0.87, 0.08],\n",
    "        [0.16, 0.9 , 0.5 , 0.83, 0.62, 0.41, 0.19, 0.32, 0.61, 0.36],\n",
    "        [0.62, 0.75, 0.47, 0.61, 0.68, 0.65, 0.98, 0.35, 0.14, 0.94],\n",
    "        [0.72, 0.78, 0.96, 0.44, 0.03, 0.66, 0.16, 0.56, 0.72, 0.21],\n",
    "        [0.  , 0.38, 0.86, 0.55, 0.21, 0.66, 0.49, 0.44, 0.66, 0.11],\n",
    "        [0.81, 0.19, 0.58, 0.8 , 0.63, 0.77, 0.82, 0.32, 0.97, 0.64],\n",
    "        [0.48, 0.05, 0.16, 0.56, 0.49, 0.46, 0.58, 0.04, 0.84, 1.  ]\n",
    "    ]\n",
    ").reshape((10, 10, 1))\n",
    "variable_parameters = [(4, -1, 0), (5, -1, 0), (4, -2, 0), (5, -2, 0)]\n",
    "\n",
    "obj40 = [np.linalg.norm(obj[1], 2) for obj in data40[0][1:14]]\n",
    "obj80 = [np.sum(np.power(obj[1], 2)) for obj in data80[0][1:14]]\n",
    "obj160 = [np.sum(np.power(obj[1], 2)) for obj in data160[0][1:14]]\n",
    "\n",
    "[true_parameters[variable_parameters[i]] for i in range(4)]"
   ]
  },
  {
   "cell_type": "code",
   "execution_count": 24,
   "metadata": {},
   "outputs": [
    {
     "data": {
      "image/png": "[encoded data removed]",
      "text/plain": [
       "<Figure size 381.6x144 with 3 Axes>"
      ]
     },
     "metadata": {
      "needs_background": "light"
     },
     "output_type": "display_data"
    }
   ],
   "source": [
    "fig, ax = plt.subplots(1, 2, figsize=(5.3, 2), constrained_layout=True)\n",
    "ax[0].plot(p1_40, color=\"red\", linestyle=\"dotted\", linewidth=1)\n",
    "ax[0].plot(p2_40, color=\"green\", linestyle=\"dotted\", linewidth=1)\n",
    "ax[0].plot(p3_40, color=\"blue\", linestyle=\"dotted\", linewidth=1)\n",
    "ax[0].plot(p4_40, color=\"orange\", linestyle=\"dotted\", linewidth=1)\n",
    "\n",
    "ax[0].plot([0], color=\"gray\", linestyle=\"dotted\", linewidth=1, label=\"40x30\")\n",
    "\n",
    "ax[0].plot(p1_80, color=\"red\", linestyle=\"dashed\", linewidth=1)\n",
    "ax[0].plot(p2_80, color=\"green\", linestyle=\"dashed\", linewidth=1)\n",
    "ax[0].plot(p3_80, color=\"blue\", linestyle=\"dashed\", linewidth=1)\n",
    "ax[0].plot(p4_80, color=\"orange\", linestyle=\"dashed\", linewidth=1)\n",
    "\n",
    "ax[0].plot([0], color=\"gray\", linestyle=\"dashed\", linewidth=1, label=\"80x60\")\n",
    "\n",
    "ax[0].plot(p1_160, color=\"red\", linestyle=\"dashdot\", linewidth=1)\n",
    "ax[0].plot(p2_160, color=\"green\", linestyle=\"dashdot\", linewidth=1)\n",
    "ax[0].plot(p3_160, color=\"blue\", linestyle=\"dashdot\", linewidth=1)\n",
    "ax[0].plot(p4_160, color=\"orange\", linestyle=\"dashdot\", linewidth=1)\n",
    "\n",
    "ax[0].plot([0], color=\"gray\", linestyle=\"dashdot\", linewidth=1, label=\"160x120\")\n",
    "\n",
    "\n",
    "ax0 = ax[0].twinx()\n",
    "ax0.get_yaxis().set_visible(False)\n",
    "ax[0].set_ylim((-0.27, 1.05))\n",
    "ax0.set_ylim((-0.27, 1.05))\n",
    "\n",
    "ax0.axhline(true_parameters[variable_parameters[3]], color=\"orange\", label=\"$p_1$\", linewidth=1, alpha=0.6)\n",
    "ax0.axhline(true_parameters[variable_parameters[2]], color=\"blue\", label=\"$p_2$\", linewidth=1, alpha=0.6)\n",
    "ax0.axhline(true_parameters[variable_parameters[0]], color=\"red\", label=\"$p_3$\", linewidth=1, alpha=0.6)\n",
    "ax0.axhline(true_parameters[variable_parameters[1]], color=\"green\", label=\"$p_4$\", linewidth=1, alpha=0.6)\n",
    "\n",
    "#ax[0].legend(loc=3)\n",
    "\n",
    "ax0.legend(loc=3)\n",
    "\n",
    "ax[0].set_xlabel(\"iteration step\")\n",
    "ax[0].set_ylabel(\"mass fraction $\\\\mathbf{c}_{Cu}$\")\n",
    "ax[1].set_xlabel(\"iteration step\")\n",
    "ax[1].set_ylabel(\"objective\")\n",
    "\n",
    "ax[0].set_xticks(range(13))\n",
    "ax[1].set_xticks(range(13))\n",
    "\n",
    "\n",
    "ax[1].semilogy(obj40, linestyle=\"dotted\", color=\"gray\", linewidth=1, label=\"40x30\")\n",
    "ax[1].semilogy(obj80, linestyle=\"dashed\", color=\"gray\", linewidth=1, label=\"80x60\")\n",
    "ax[1].semilogy(obj160, linestyle=\"dashdot\", color=\"gray\", linewidth=1, label=\"160x120\")\n",
    "ax[1].legend()\n",
    "\n",
    "plt.savefig(\"optimization_plots.pdf\")\n"
   ]
  },
  {
   "cell_type": "code",
   "execution_count": 12,
   "metadata": {},
   "outputs": [
    {
     "data": {
      "text/plain": [
       "(4, -1, 0)"
      ]
     },
     "execution_count": 12,
     "metadata": {},
     "output_type": "execute_result"
    }
   ],
   "source": [
    "variable_parameters[0]"
   ]
  },
  {
   "cell_type": "code",
   "execution_count": 27,
   "metadata": {},
   "outputs": [],
   "source": [
    "true_parameters = np.array(\n",
    "    [\n",
    "        [0.78, 0.72, 0.71, 0.65, 0.2 , 0.09, 0.97, 0.17, 0.62, 0.85],\n",
    "        [0.03, 0.16, 0.78, 0.28, 0.23, 0.45, 0.09, 0.06, 0.97, 0.67],\n",
    "        [0.6 , 0.49, 0.09, 0.48, 0.07, 0.27, 0.76, 0.95, 0.03, 0.09],\n",
    "        [0.96, 0.64, 0.4 , 0.26, 0.8 , 0.93, 0.19, 0.9 , 0.87, 0.08],\n",
    "        [0.16, 0.9 , 0.5 , 0.83, 0.62, 0.41, 0.19, 0.32, 0.61, 0.36],\n",
    "        [0.62, 0.75, 0.47, 0.61, 0.68, 0.65, 0.98, 0.35, 0.14, 0.94],\n",
    "        [0.72, 0.78, 0.96, 0.44, 0.03, 0.66, 0.16, 0.56, 0.72, 0.21],\n",
    "        [0.  , 0.38, 0.86, 0.55, 0.21, 0.66, 0.49, 0.44, 0.66, 0.11],\n",
    "        [0.81, 0.19, 0.58, 0.8 , 0.63, 0.77, 0.82, 0.32, 0.97, 0.64],\n",
    "        [0.48, 0.05, 0.16, 0.56, 0.49, 0.46, 0.58, 0.04, 0.84, 1.  ]\n",
    "    ]\n",
    ").reshape((10, 10, 1))\n",
    "variable_parameters = [(4, -1, 0), (5, -1, 0), (4, -2, 0), (5, -2, 0)]\n",
    "\n",
    "obj40 = [np.linalg.norm(obj[1], 2) for obj in data40[0][1:]]\n",
    "obj80 = [np.sum(np.power(obj[1], 2)) for obj in data80[0][1:]]\n",
    "obj160 = [np.sum(np.power(obj[1], 2)) for obj in data160[0][1:]]\n",
    "\n",
    "[true_parameters[variable_parameters[i]] for i in range(4)]"
   ]
  },
  {
   "cell_type": "code",
   "execution_count": 28,
   "metadata": {},
   "outputs": [
    {
     "data": {
      "text/plain": [
       "[0.36, 0.94, 0.61, 0.14]"
      ]
     },
     "execution_count": 28,
     "metadata": {},
     "output_type": "execute_result"
    }
   ],
   "source": []
  },
  {
   "cell_type": "code",
   "execution_count": 75,
   "metadata": {},
   "outputs": [],
   "source": [
    "obj40 = [np.linalg.norm(obj[1], 2) for obj in data40[0][1:]]\n",
    "obj80 = [np.sum(np.power(obj[1], 2)) for obj in data80[0][1:]]\n",
    "obj160 = [np.sum(np.power(obj[1], 2)) for obj in data160[0][1:]]"
   ]
  },
  {
   "cell_type": "code",
   "execution_count": 71,
   "metadata": {},
   "outputs": [
    {
     "data": {
      "text/plain": [
       "[(array([0.5, 0.5, 0.5, 0.5]),\n",
       "  array([ 0.02144255, -0.01341825,  0.0423807 , -0.01684041,  0.07886743,\n",
       "         -0.03202509, -0.17568753,  0.1128148 , -0.26031521,  0.15737476,\n",
       "         -0.35539758,  0.23432562])),\n",
       " (array([0.46266127, 0.70919343, 0.49862267, 0.54207096]),\n",
       "  array([ 0.02597617, -0.0210553 ,  0.04118539, -0.02346432,  0.0673452 ,\n",
       "         -0.03426572, -0.07765071,  0.04112872, -0.13357053,  0.06702539,\n",
       "         -0.19508374,  0.11733232])),\n",
       " (array([0.39463867, 0.87067844, 0.484305  , 0.56046921]),\n",
       "  array([ 0.01080702, -0.01287195,  0.01656789, -0.01116028,  0.02879278,\n",
       "         -0.01392343, -0.00398525, -0.01154689, -0.03704692, -0.00012551,\n",
       "         -0.07164338,  0.02906886])),\n",
       " (array([0.36139007, 0.92480626, 0.46833607, 0.53576697]),\n",
       "  array([-0.00179474, -0.00359903,  0.000212  ,  0.0002666 ,  0.00729082,\n",
       "          0.00080819,  0.01555749, -0.02406651, -0.00882336, -0.01737715,\n",
       "         -0.03226506,  0.00404558])),\n",
       " (array([0.360231  , 0.94380172, 0.46036629, 0.46631372]),\n",
       "  array([-0.00537686,  0.00062736, -0.00196326,  0.00404418,  0.00669758,\n",
       "          0.00327899,  0.01451342, -0.02090668, -0.00522126, -0.01566337,\n",
       "         -0.02117123,  0.0019895 ])),\n",
       " (array([0.35881568, 0.96394176, 0.48569119, 0.35401335]),\n",
       "  array([-0.00582972,  0.00246079, -0.00101021,  0.0049149 ,  0.00792422,\n",
       "          0.00253456,  0.01003655, -0.01484613, -0.00456687, -0.01070444,\n",
       "         -0.0111594 ,  0.00305406])),\n",
       " (array([0.34752392, 0.98372226, 0.55436877, 0.22846741]),\n",
       "  array([-3.90020735e-03,  1.30532273e-03,  8.43822652e-05,  3.19607183e-03,\n",
       "          4.87439645e-03,  8.43511583e-04,  5.67299997e-03, -9.60495124e-03,\n",
       "         -4.59010514e-03, -6.07122516e-03, -2.22944501e-03,  4.64317174e-03])),\n",
       " (array([0.33748121, 0.99573279, 0.6079811 , 0.14479164]),\n",
       "  array([-0.00220513, -0.00012852,  0.00058696,  0.0015656 ,  0.00154861,\n",
       "         -0.00026007,  0.00284362, -0.00647843, -0.004995  , -0.00314439,\n",
       "          0.00280733,  0.0059715 ])),\n",
       " (array([0.33455305, 0.99915535, 0.62309198, 0.11973506]),\n",
       "  array([-0.00178534, -0.00047962,  0.00066669,  0.00116485,  0.0005432 ,\n",
       "         -0.00050936,  0.00194095, -0.00550428, -0.00520146, -0.00221664,\n",
       "          0.00419096,  0.00644563])),\n",
       " (array([0.33424485, 0.99952332, 0.62471375, 0.11703715]),\n",
       "  array([-0.00173678, -0.00052021,  0.0006793 ,  0.00111851,  0.00044006,\n",
       "         -0.00053994,  0.00184586, -0.00540156, -0.00522216, -0.0021189 ,\n",
       "          0.00434055,  0.00649497])),\n",
       " (array([0.33424499, 0.99952325, 0.62471397, 0.11703691]),\n",
       "  array([-0.0017367 , -0.00052027,  0.0006794 ,  0.00111844,  0.00044018,\n",
       "         -0.00054003,  0.00184582, -0.00540153, -0.00522222, -0.00211886,\n",
       "          0.0043405 ,  0.00649501])),\n",
       " (array([0.33424512, 0.99952321, 0.62471458, 0.11703621]),\n",
       "  array([-0.00173659, -0.00052036,  0.00067952,  0.00111833,  0.0004403 ,\n",
       "         -0.00054015,  0.00184575, -0.00540148, -0.00522229, -0.0021188 ,\n",
       "          0.00434044,  0.00649508])),\n",
       " (array([0.33424507, 0.99952329, 0.62471541, 0.11703519]),\n",
       "  array([-0.00173651, -0.00052042,  0.00067959,  0.00111826,  0.00044032,\n",
       "         -0.00054022,  0.0018457 , -0.00540143, -0.00522233, -0.00211875,\n",
       "          0.00434045,  0.00649513])),\n",
       " (array([0.33424506, 0.99952329, 0.62471545, 0.11703514]),\n",
       "  array([-0.00173651, -0.00052042,  0.00067959,  0.00111826,  0.00044032,\n",
       "         -0.00054023,  0.0018457 , -0.00540143, -0.00522233, -0.00211875,\n",
       "          0.00434045,  0.00649513])),\n",
       " (array([0.33424506, 0.99952329, 0.62471545, 0.11703514]),\n",
       "  array([-0.00173651, -0.00052042,  0.00067959,  0.00111826,  0.00044032,\n",
       "         -0.00054023,  0.0018457 , -0.00540143, -0.00522233, -0.00211875,\n",
       "          0.00434045,  0.00649513])),\n",
       " (array([0.33424506, 0.99952329, 0.62471545, 0.11703514]),\n",
       "  array([-0.00173651, -0.00052042,  0.00067959,  0.00111826,  0.00044032,\n",
       "         -0.00054023,  0.0018457 , -0.00540143, -0.00522233, -0.00211875,\n",
       "          0.00434045,  0.00649513])),\n",
       " (array([0.33424506, 0.99952329, 0.62471545, 0.11703513]),\n",
       "  array([-0.00173651, -0.00052042,  0.00067959,  0.00111826,  0.00044032,\n",
       "         -0.00054023,  0.0018457 , -0.00540143, -0.00522233, -0.00211875,\n",
       "          0.00434045,  0.00649513])),\n",
       " (array([0.33424506, 0.99952329, 0.62471545, 0.11703513]),\n",
       "  array([-0.00173651, -0.00052042,  0.00067959,  0.00111826,  0.00044032,\n",
       "         -0.00054023,  0.0018457 , -0.00540143, -0.00522233, -0.00211875,\n",
       "          0.00434045,  0.00649513])),\n",
       " (array([0.33424506, 0.99952329, 0.62471545, 0.11703513]),\n",
       "  array([-0.00173651, -0.00052042,  0.00067959,  0.00111826,  0.00044032,\n",
       "         -0.00054023,  0.0018457 , -0.00540143, -0.00522233, -0.00211875,\n",
       "          0.00434045,  0.00649513]))]"
      ]
     },
     "execution_count": 71,
     "metadata": {},
     "output_type": "execute_result"
    }
   ],
   "source": [
    "data40[0][1:]"
   ]
  },
  {
   "cell_type": "code",
   "execution_count": null,
   "metadata": {},
   "outputs": [],
   "source": []
  }
 ],
 "metadata": {
  "kernelspec": {
   "display_name": "Python 3",
   "language": "python",
   "name": "python3"
  },
  "language_info": {
   "codemirror_mode": {
    "name": "ipython",
    "version": 3
   },
   "file_extension": ".py",
   "mimetype": "text/x-python",
   "name": "python",
   "nbconvert_exporter": "python",
   "pygments_lexer": "ipython3",
   "version": "3.9.5"
  }
 },
 "nbformat": 4,
 "nbformat_minor": 4
}
