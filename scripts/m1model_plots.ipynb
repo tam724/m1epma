{
 "cells": [
  {
   "cell_type": "code",
   "execution_count": 21,
   "metadata": {},
   "outputs": [],
   "source": [
    "import numpy as np\n",
    "from scipy.optimize import least_squares\n",
    "import matplotlib.pyplot as plt\n",
    "\n",
    "import sys\n",
    "sys.path.append('../../m1epma')\n",
    "sys.path.append('m1epma')\n",
    "import physics\n",
    "import experiment\n",
    "from physics import keV, nano\n",
    "import optimization\n",
    "import m1model\n",
    "import pickle\n",
    "\n",
    "plt.rc('text', usetex=True)\n",
    "plt.rc('font', family='serif')\n",
    "plt.rc('xtick', labelsize='x-small')\n",
    "plt.rc('ytick', labelsize='x-small')\n",
    "\n",
    "plt.rc('axes', titlesize='small')     # fontsize of the axes title\n",
    "plt.rc('axes', labelsize='small')    # fontsize of the x and y labels\n",
    "plt.rc('legend', fontsize='small')    # legend fontsize\n"
   ]
  },
  {
   "cell_type": "code",
   "execution_count": 22,
   "metadata": {},
   "outputs": [],
   "source": [
    "elements = [physics.Copper(), physics.Manganese()]\n",
    "x_rays = [physics.XRay(e, 1.) for e in elements]"
   ]
  },
  {
   "cell_type": "code",
   "execution_count": 23,
   "metadata": {},
   "outputs": [],
   "source": [
    "\n",
    "material = physics.Material(\n",
    "    n_x = 10,\n",
    "    n_y = 10,\n",
    "    hat_n_x = 160,\n",
    "    hat_n_y = 120,\n",
    "    dim_x = [0., 1000.*nano],\n",
    "    dim_y = [-800.*nano, 0.]\n",
    ")\n",
    "\n",
    "detector = physics.Detector(\n",
    "    x=500.*nano,\n",
    "    y=50.*nano,\n",
    "    material = material)\n",
    "\n",
    "electron_beam = physics.ElectronBeam(\n",
    "        size=[(30.*nano)**2, (30.*nano)**2],\n",
    "        pos=[500.*nano, -100.*nano],\n",
    "        beam_energy_keV=12.,\n",
    "        energy_variation_keV=0.1\n",
    "    )\n",
    "\n",
    "exp = experiment.Experiment(\n",
    "        material=material,\n",
    "        detector=detector,\n",
    "        electron_beam=electron_beam,\n",
    "        elements=elements,\n",
    "        x_ray_transitions=x_rays,\n",
    "        epsilon_initial_keV=13.,\n",
    "        epsilon_cutoff_keV=5.,\n",
    "        n_epsilon=170\n",
    "    )\n",
    "\n",
    "n_x_ray_transitions = exp.n_x_ray_transitions\n",
    "\n",
    "# generate the measured k-ratios\n",
    "true_parameters = np.array(\n",
    "    [\n",
    "        [0.78, 0.72, 0.71, 0.65, 0.2 , 0.09, 0.97, 0.17, 0.62, 0.85],\n",
    "        [0.03, 0.16, 0.78, 0.28, 0.23, 0.45, 0.09, 0.06, 0.97, 0.67],\n",
    "        [0.6 , 0.49, 0.09, 0.48, 0.07, 0.27, 0.76, 0.95, 0.03, 0.09],\n",
    "        [0.96, 0.64, 0.4 , 0.26, 0.8 , 0.93, 0.19, 0.9 , 0.87, 0.08],\n",
    "        [0.16, 0.9 , 0.5 , 0.83, 0.62, 0.41, 0.19, 0.32, 0.61, 0.36],\n",
    "        [0.62, 0.75, 0.47, 0.61, 0.68, 0.65, 0.98, 0.35, 0.14, 0.94],\n",
    "        [0.72, 0.78, 0.96, 0.44, 0.03, 0.66, 0.16, 0.56, 0.72, 0.21],\n",
    "        [0.  , 0.38, 0.86, 0.55, 0.21, 0.66, 0.49, 0.44, 0.66, 0.11],\n",
    "        [0.81, 0.19, 0.58, 0.8 , 0.63, 0.77, 0.82, 0.32, 0.97, 0.64],\n",
    "        [0.48, 0.05, 0.16, 0.56, 0.49, 0.46, 0.58, 0.04, 0.84, 1.  ]\n",
    "    ]\n",
    ").reshape((material.n_x, material.n_y, 1))\n",
    "n_parameters = material.n_x*material.n_y"
   ]
  },
  {
   "cell_type": "code",
   "execution_count": 24,
   "metadata": {},
   "outputs": [
    {
     "name": "stdout",
     "output_type": "stream",
     "text": [
      "calculating forward solution\n"
     ]
    }
   ],
   "source": [
    "mass_fractions = experiment.mass_fractions_from_parameters(exp.material.n_x, exp.material.n_y, true_parameters)\n",
    "m1model_data = m1model.solve_forward(exp, mass_fractions)\n",
    "#m1model_data['material'] = e.material\n",
    "#m1model_data['beam'] = e.electron_beam\n",
    "#m1model_data['detector'] = e.detector\n",
    "#m1model_data['energies_keV'] = e.epsilons_keV\n",
    "#with open('m1model_plots.pkl', 'wb') as writefile:\n",
    "#    pickle.dump(m1model_data, writefile)"
   ]
  },
  {
   "cell_type": "code",
   "execution_count": 25,
   "metadata": {},
   "outputs": [
    {
     "data": {
      "image/png": "[encoded data removed]",
      "text/plain": [
       "<Figure size 381.6x288 with 4 Axes>"
      ]
     },
     "metadata": {
      "needs_background": "light"
     },
     "output_type": "display_data"
    }
   ],
   "source": [
    "fig, ax = plt.subplots(2, 2, sharey=True, sharex=True, figsize=(5.3, 4))\n",
    "ax = ax.flatten()\n",
    "q = m1model_data['solution']\n",
    "m = material\n",
    "eps = exp.epsilons_keV\n",
    "indices = [127, 85, 43]\n",
    "    #vmin = np.min(q[indices, 0, :, :])\n",
    "    #vmax = np.max(q[indices, 0, :, :])\n",
    "ax[0].imshow(np.ones(np.shape(q[indices[0], 0, :, :].T)), vmin = 0, vmax = 1, origin='lower', extent=[m.dim_x[0]/nano, m.dim_x[1]/nano, m.dim_y[0]/nano, m.dim_y[1]/nano], cmap='gray')\n",
    "\n",
    "for i, idx in enumerate(indices):\n",
    "    i = i + 1\n",
    "    im = ax[i].imshow(q[idx, 0, :, :].T, origin='lower', extent=[m.dim_x[0]/nano, m.dim_x[1]/nano, m.dim_y[0]/nano, m.dim_y[1]/nano], cmap='inferno')\n",
    "    ax[i].title.set_text(\"$\\\\epsilon = {} keV$\".format(round(eps[idx], 1)))\n",
    "    ax[i].set_yticks([0, -400, -800])\n",
    "    if i == 2 or i == 3:\n",
    "        ax[i].set_xlabel(\"x [nm]\")\n",
    "    ax[i].set_aspect(\"equal\", \"box\")\n",
    "# ax[0].set_xticks([])\n",
    "# ax[1].set_xticks([])\n",
    "ax[0].set_ylabel(\"y [nm]\")\n",
    "ax[2].set_ylabel(\"y [nm]\")\n",
    "for i in range(4):\n",
    "    if i == 0:\n",
    "        col = \"black\"\n",
    "    else:\n",
    "        col = \"white\"\n",
    "    for y in np.linspace(0, -800, 11)[1:-1]:\n",
    "        ax[i].axhline(y, color=col, linewidth=0.5, alpha=0.5)\n",
    "    for x in np.linspace(0, 1000, 11)[1: -1]:\n",
    "        ax[i].axvline(x, color=col, linewidth=0.5, alpha=0.5)\n",
    "    ax[i].plot([410, 410, 490, 490, 4f10], [-10, -70, -70, -10, -10], color=col, linestyle=\"dashed\", linewidth=0.5, alpha=0.8)\n",
    "    ax[i].plot([410, 410, 490, 490, 410], [-90, -150, -150, -90, -90], color=col, linestyle=\"solid\", linewidth=0.5, alpha=0.8)\n",
    "    ax[i].plot([510, 510, 590, 590, 510], [-10, -70, -70, -10, -10], color=col, linestyle=\"dotted\", linewidth=0.5, alpha=0.8)\n",
    "    ax[i].plot([510, 510, 590, 590, 510], [-90, -150, -150, -90, -90], color=col, linestyle=\"dashdot\", linewidth=0.5, alpha=0.8)\n",
    "ax[0].text(450, -40, \"$p_3$\", horizontalalignment='center', verticalalignment='center', fontsize=8)\n",
    "ax[0].text(550, -40, \"$p_4$\", horizontalalignment='center', verticalalignment='center', fontsize=8)\n",
    "ax[0].text(450, -120, \"$p_2$\", horizontalalignment='center', verticalalignment='center', fontsize=8)\n",
    "ax[0].text(550, -120, \"$p_1$\", horizontalalignment='center', verticalalignment='center', fontsize=8)\n",
    "# fig.colorbar(im, ax=ax.ravel().tolist())\n",
    "# cbar = fig.colorbar(im, ax=ax.ravel().tolist(), use_gridspec=True)\n",
    "\n",
    "# plt.show()\n",
    "plt.savefig(\"m1model_plots.pdf\", bbox_inches='tight')\n"
   ]
  }
 ],
 "metadata": {
  "kernelspec": {
   "display_name": "Python 3",
   "language": "python",
   "name": "python3"
  },
  "language_info": {
   "codemirror_mode": {
    "name": "ipython",
    "version": 3
   },
   "file_extension": ".py",
   "mimetype": "text/x-python",
   "name": "python",
   "nbconvert_exporter": "python",
   "pygments_lexer": "ipython3",
   "version": "3.9.5"
  }
 },
 "nbformat": 4,
 "nbformat_minor": 4
}
