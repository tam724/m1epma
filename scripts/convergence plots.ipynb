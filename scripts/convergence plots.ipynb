{
 "cells": [
  {
   "cell_type": "code",
   "execution_count": 3,
   "metadata": {},
   "outputs": [],
   "source": [
    "import numpy as np\n",
    "from scipy.optimize import least_squares"
   ]
  },
  {
   "cell_type": "code",
   "execution_count": 4,
   "metadata": {},
   "outputs": [],
   "source": [
    "import sys\n",
    "sys.path.append('../../m1epma')\n",
    "sys.path.append('m1epma')\n",
    "import physics\n",
    "import experiment\n",
    "from physics import keV, nano\n",
    "import optimization\n",
    "import m1model\n",
    "import pickle\n",
    "import scipy.constants\n",
    "import matplotlib.pyplot as plt\n",
    "import matplotlib\n",
    "\n",
    "plt.rc('text', usetex=True)\n",
    "plt.rc('font', family='serif')\n",
    "plt.rc('xtick', labelsize='x-small')\n",
    "plt.rc('ytick', labelsize='x-small')\n",
    "\n",
    "plt.rc('axes', titlesize='small')     # fontsize of the axes title\n",
    "plt.rc('axes', labelsize='small')    # fontsize of the x and y labels\n",
    "plt.rc('legend', fontsize='small')    # legend fontsize\n"
   ]
  },
  {
   "cell_type": "code",
   "execution_count": 5,
   "metadata": {},
   "outputs": [],
   "source": [
    "elements = [physics.Copper(), physics.Manganese()]\n",
    "x_rays = [physics.XRay(e, 1.) for e in elements]\n",
    "\n",
    "materials = [\n",
    "    physics.Material(\n",
    "        n_x = 10,\n",
    "        n_y = 10,\n",
    "        hat_n_x = 40*2**i,\n",
    "        hat_n_y = 30*2**i,\n",
    "        dim_x = [0., 1000.*nano],\n",
    "        dim_y = [-800.*nano, 0.]) for i in range(0, 4)\n",
    "]\n",
    "\n",
    "detectors = [\n",
    "    physics.Detector(\n",
    "        x=500.*nano,\n",
    "        y=50.*nano,\n",
    "        material = m) for m in materials\n",
    "]\n",
    "\n",
    "beam = physics.ElectronBeam(\n",
    "        size=[(30.*nano)**2, (30.*nano)**2],\n",
    "        pos=[500.*nano, -100.*nano],\n",
    "        beam_energy_keV=12.,\n",
    "        energy_variation_keV=0.1\n",
    "    )"
   ]
  },
  {
   "cell_type": "code",
   "execution_count": 8,
   "metadata": {},
   "outputs": [],
   "source": [
    "experiments = [\n",
    "    experiment.Experiment(\n",
    "        material=m,\n",
    "        detector=d,\n",
    "        electron_beam=beam,\n",
    "        elements=elements,\n",
    "        x_ray_transitions=x_rays,\n",
    "        epsilon_initial_keV=13.,\n",
    "        epsilon_cutoff_keV=5.,\n",
    "        n_epsilon=n_eps\n",
    "    ) for (m, d, n_eps) in zip(materials, detectors, [350, 350, 350, 350, 350])]\n",
    "n_x_ray_transitions = experiments[0].n_x_ray_transitions"
   ]
  },
  {
   "cell_type": "code",
   "execution_count": 5,
   "metadata": {},
   "outputs": [
    {
     "name": "stdout",
     "output_type": "stream",
     "text": [
      "calculating forward solution\n",
      "calculating forward solution\n",
      "calculating forward solution\n",
      "calculating forward solution\n",
      "calculating forward solution\n",
      "calculating forward solution\n",
      "calculating forward solution\n",
      "calculating forward solution\n"
     ]
    }
   ],
   "source": [
    "for e in experiments:\n",
    "    e.update_std_intensities()"
   ]
  },
  {
   "cell_type": "code",
   "execution_count": 6,
   "metadata": {},
   "outputs": [
    {
     "data": {
      "text/plain": [
       "[0.36, 0.94, 0.61, 0.14]"
      ]
     },
     "execution_count": 6,
     "metadata": {},
     "output_type": "execute_result"
    }
   ],
   "source": [
    "true_parameters = np.array(\n",
    "    [\n",
    "        [0.78, 0.72, 0.71, 0.65, 0.2 , 0.09, 0.97, 0.17, 0.62, 0.85],\n",
    "        [0.03, 0.16, 0.78, 0.28, 0.23, 0.45, 0.09, 0.06, 0.97, 0.67],\n",
    "        [0.6 , 0.49, 0.09, 0.48, 0.07, 0.27, 0.76, 0.95, 0.03, 0.09],\n",
    "        [0.96, 0.64, 0.4 , 0.26, 0.8 , 0.93, 0.19, 0.9 , 0.87, 0.08],\n",
    "        [0.16, 0.9 , 0.5 , 0.83, 0.62, 0.41, 0.19, 0.32, 0.61, 0.36],\n",
    "        [0.62, 0.75, 0.47, 0.61, 0.68, 0.65, 0.98, 0.35, 0.14, 0.94],\n",
    "        [0.72, 0.78, 0.96, 0.44, 0.03, 0.66, 0.16, 0.56, 0.72, 0.21],\n",
    "        [0.  , 0.38, 0.86, 0.55, 0.21, 0.66, 0.49, 0.44, 0.66, 0.11],\n",
    "        [0.81, 0.19, 0.58, 0.8 , 0.63, 0.77, 0.82, 0.32, 0.97, 0.64],\n",
    "        [0.48, 0.05, 0.16, 0.56, 0.49, 0.46, 0.58, 0.04, 0.84, 1.  ]\n",
    "    ]\n",
    ").reshape((materials[0].n_x, materials[0].n_y, 1))\n",
    "n_parameters = materials[0].n_x*materials[0].n_y\n",
    "variable_parameters = [(3, -1, 0), (4, -1, 0), (5, -1, 0), (6, -1, 0), (3, -2, 0), (4, -2, 0), (5, -2, 0), (6, -2, 0)]\n",
    "variable_parameters = [(4, -1, 0), (5, -1, 0), (4, -2, 0), (5, -2, 0)]\n",
    "n_k_ratios = sum([e.n_x_ray_transitions for e in experiments])\n",
    "[true_parameters[i] for i in variable_parameters]\n"
   ]
  },
  {
   "cell_type": "code",
   "execution_count": 7,
   "metadata": {
    "scrolled": false
   },
   "outputs": [
    {
     "name": "stdout",
     "output_type": "stream",
     "text": [
      "calculating forward solution\n",
      "calculating forward solution\n",
      "calculating forward solution\n",
      "calculating forward solution\n"
     ]
    }
   ],
   "source": [
    "solution0 = m1model.solve_forward(experiments[0], experiment.mass_fractions_from_parameters(experiments[0].material.n_x, experiments[0].material.n_y, true_parameters))\n",
    "solution1 = m1model.solve_forward(experiments[1], experiment.mass_fractions_from_parameters(experiments[1].material.n_x, experiments[1].material.n_y, true_parameters))\n",
    "solution2 = m1model.solve_forward(experiments[2], experiment.mass_fractions_from_parameters(experiments[2].material.n_x, experiments[2].material.n_y, true_parameters))\n",
    "solution3 = m1model.solve_forward(experiments[3], experiment.mass_fractions_from_parameters(experiments[3].material.n_x, experiments[3].material.n_y, true_parameters))\n"
   ]
  },
  {
   "cell_type": "code",
   "execution_count": 8,
   "metadata": {},
   "outputs": [
    {
     "name": "stdout",
     "output_type": "stream",
     "text": [
      "calculating forward solution\n",
      "calculating forward solution\n",
      "calculating forward solution\n",
      "calculating forward solution\n"
     ]
    }
   ],
   "source": [
    "k_ratios_0 = experiment.k_ratios(experiments[0], true_parameters)\n",
    "k_ratios_1 = experiment.k_ratios(experiments[1], true_parameters)\n",
    "k_ratios_2 = experiment.k_ratios(experiments[2], true_parameters)\n",
    "k_ratios_3 = experiment.k_ratios(experiments[3], true_parameters)\n"
   ]
  },
  {
   "cell_type": "code",
   "execution_count": 10,
   "metadata": {},
   "outputs": [],
   "source": [
    "with open(\"convergence_solution_k_ratios.pkl\", \"wb\") as writefile:\n",
    "    pickle.dump(\n",
    "    (solution0, solution1, solution2, solution3, k_ratios_0, k_ratios_1, k_ratios_2, k_ratios_3), writefile)"
   ]
  },
  {
   "cell_type": "code",
   "execution_count": 6,
   "metadata": {},
   "outputs": [],
   "source": [
    "with open(\"convergence_solution_k_ratios.pkl\", \"rb\") as readfile:\n",
    "    solution0, solution1, solution2, solution3, k_ratios_0, k_ratios_1, k_ratios_2, k_ratios_3 = pickle.load(readfile)"
   ]
  },
  {
   "cell_type": "code",
   "execution_count": 9,
   "metadata": {},
   "outputs": [],
   "source": [
    "def l2_norm(f, g, n):\n",
    "    #n: n * n_cells(f) = n_cells(g)\n",
    "    scal = np.ones((n, n))\n",
    "\n",
    "    norm = 0.\n",
    "    for i in range(f['solution'].shape[0]): # time loop\n",
    "        for j in range(0, 3): # \n",
    "            temp = f['solution'][i, j, :, :]\n",
    "            norm += np.sum(np.power(np.kron(temp, scal) - g['solution'][i, j, :, :], 2))\n",
    "    return np.sqrt(norm*g['delta_x']*g['delta_y']*experiments[0].delta_epsilon_J)\n",
    "\n",
    "norm = [l2_norm(solution0, solution3, 8), l2_norm(solution1, solution3, 4), l2_norm(solution2, solution3, 2)]\n"
   ]
  },
  {
   "cell_type": "code",
   "execution_count": 10,
   "metadata": {},
   "outputs": [],
   "source": [
    "norm_k_rat = [np.linalg.norm(k_ratios_3 - k_ratios_0), np.linalg.norm(k_ratios_3 - k_ratios_1), np.linalg.norm(k_ratios_3 - k_ratios_2)]\n",
    "scale = np.array([exp.material.delta_x / scipy.constants.nano for exp in experiments[0:3]])"
   ]
  },
  {
   "cell_type": "code",
   "execution_count": 13,
   "metadata": {},
   "outputs": [
    {
     "data": {
      "image/png": "[encoded data removed]",
      "text/plain": [
       "<Figure size 187.2x144 with 1 Axes>"
      ]
     },
     "metadata": {
      "needs_background": "light"
     },
     "output_type": "display_data"
    }
   ],
   "source": [
    "fig, ax = plt.subplots(1, 1, figsize=(2.6, 2))\n",
    "\n",
    "plt.loglog(scale, norm, label=\"$|| \\psi^0 - \\psi^0_{*}||_2$\", marker=\"o\", color=\"red\", linewidth=1, markersize=3)\n",
    "plt.loglog(scale, norm_k_rat, label=\"$|| \\mathbf{k} - \\mathbf{k}_{*}||_2$\", marker=\"o\", color=\"blue\", linewidth=1, markersize=3)\n",
    "plt.xlim([scale.max() + scale.max()*0.1, scale.min() - scale.min()*0.1])\n",
    "plt.ylim((10e-4, 10e-2))\n",
    "plt.legend()\n",
    "\n",
    "from matplotlib.ticker import ScalarFormatter, NullFormatter\n",
    "plt.gca().xaxis.set_major_formatter(ScalarFormatter())\n",
    "plt.gca().xaxis.set_minor_formatter(NullFormatter())\n",
    "plt.gca().set_xticks(scale)\n",
    "\n",
    "#plt.gca().get_xaxis().set_tick_params(which='minor', size=0)\n",
    "#plt.gca().get_xaxis().set_tick_params(which='minor', width=0)\n",
    "\n",
    "#plt.xticks(scale)\n",
    "#plt.xticks([12.5, 25, 50])\n",
    "#plt.gca().set_yticklabels([\"12.5\", \"25\", \"50\"])\n",
    "\n",
    "plt.xlabel(\"cell size in [nm]\")\n",
    "plt.ylabel(\"error\")\n",
    "\n",
    "plt.savefig(\"convergence.pdf\", bbox_inches='tight')\n"
   ]
  }
 ],
 "metadata": {
  "kernelspec": {
   "display_name": "Python 3",
   "language": "python",
   "name": "python3"
  },
  "language_info": {
   "codemirror_mode": {
    "name": "ipython",
    "version": 3
   },
   "file_extension": ".py",
   "mimetype": "text/x-python",
   "name": "python",
   "nbconvert_exporter": "python",
   "pygments_lexer": "ipython3",
   "version": "3.9.5"
  }
 },
 "nbformat": 4,
 "nbformat_minor": 4
}
