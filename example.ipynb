{
 "metadata": {
  "language_info": {
   "codemirror_mode": {
    "name": "ipython",
    "version": 3
   },
   "file_extension": ".py",
   "mimetype": "text/x-python",
   "name": "python",
   "nbconvert_exporter": "python",
   "pygments_lexer": "ipython3",
   "version": "3.9.4"
  },
  "orig_nbformat": 2,
  "kernelspec": {
   "name": "python3",
   "display_name": "Python 3",
   "language": "python"
  }
 },
 "nbformat": 4,
 "nbformat_minor": 2,
 "cells": [
  {
   "source": [
    "# Example Usage of the M1EPMA Software\n",
    "\n",
    "- calculation of a forward solution\n",
    "- calculation of k-ratios (standardized by a constant)\n",
    "- calculation of the jacobian of these k-ratios w.r.t. the material parameters"
   ],
   "cell_type": "markdown",
   "metadata": {}
  },
  {
   "cell_type": "code",
   "execution_count": 1,
   "metadata": {},
   "outputs": [],
   "source": [
    "import numpy as np\n",
    "from physics import Copper, Nickel, Chromium, XRay, Material, Detector, ElectronBeam\n",
    "from scipy.constants import kilo, electron_volt, nano\n",
    "import matplotlib.pyplot as plt\n",
    "from experiment import Experiment, k_ratios, mass_fractions_from_parameters, k_ratios_jacobian\n",
    "import m1model"
   ]
  },
  {
   "source": [
    "Definition of the elements and k-ratios / xrays to be considered in the material."
   ],
   "cell_type": "markdown",
   "metadata": {}
  },
  {
   "cell_type": "code",
   "execution_count": 2,
   "metadata": {},
   "outputs": [],
   "source": [
    "elements = [Copper(), Nickel(), Chromium()]\n",
    "n_elements = len(elements)\n",
    "x_rays = [XRay(e, 1.e-27) for e in elements]"
   ]
  },
  {
   "source": [
    "Definition of the energy range. ($\\epsilon_{initial} > \\epsilon_{beam}$, otherwise the beam is not captured)"
   ],
   "cell_type": "markdown",
   "metadata": {}
  },
  {
   "cell_type": "code",
   "execution_count": 3,
   "metadata": {},
   "outputs": [],
   "source": [
    "eps_initial_keV = 17.\n",
    "eps_cutoff_keV = 10."
   ]
  },
  {
   "source": [
    "Definition of the material domain and grid (reconstruction  pixel, and finite volume cells), the detector (position) and the electron beam (size, position, energy).\n"
   ],
   "cell_type": "markdown",
   "metadata": {}
  },
  {
   "cell_type": "code",
   "execution_count": 4,
   "metadata": {},
   "outputs": [],
   "source": [
    "m = Material(1, 1, 70, 70, [0., 1000.*nano], [-800.*nano, 0.])\n",
    "detector = Detector(500.*nano, 50.*nano, m)\n",
    "e_beam = ElectronBeam([(30.*nano)**2, (30.*nano)**2], [500. * nano, 0. * nano], 16., 0.1)\n",
    "#plt.plot(np.linspace(0, 1000.*nano), [e_beam.intensity_dist(x, 0.*nano, e_beam.beam_energy_keV) for x in np.linspace(0, 1000.*nano)]) # plots to visualize the beam distribution over the computationl domain\n",
    "#plt.plot(np.linspace(eps_cutoff_keV, eps_initial_keV), [e_beam.intensity_dist(500.*nano, 0.*nano, e) for e in np.linspace(eps_cutoff_keV, eps_initial_keV)])\n"
   ]
  },
  {
   "source": [
    "Definition of the Experiment (a specific electron beam / detector setup)"
   ],
   "cell_type": "markdown",
   "metadata": {}
  },
  {
   "cell_type": "code",
   "execution_count": 5,
   "metadata": {},
   "outputs": [],
   "source": [
    "e = Experiment(m, detector, e_beam, elements, x_rays, eps_initial_keV, eps_cutoff_keV, 100)"
   ]
  },
  {
   "source": [
    "Definition of the parameter vector (the shape of the vector is given by the material definition).\n",
    "Mass fractions can be calculated from the parameters."
   ],
   "cell_type": "markdown",
   "metadata": {}
  },
  {
   "source": [
    "params = np.full(e.parameter_dimensions, 0.33)\n",
    "mass_fractions = mass_fractions_from_parameters(m.n_x, m.n_y, params)"
   ],
   "cell_type": "code",
   "metadata": {},
   "execution_count": 6,
   "outputs": []
  },
  {
   "source": [
    "Solving the m1model and displaying a snapshot of it."
   ],
   "cell_type": "markdown",
   "metadata": {}
  },
  {
   "cell_type": "code",
   "execution_count": 7,
   "metadata": {},
   "outputs": [
    {
     "output_type": "stream",
     "name": "stdout",
     "text": [
      "calculating forward solution\n",
      "0.0\n",
      "0.0707070707070707\n",
      "0.1414141414141414\n",
      "0.2121212121212121\n",
      "0.2828282828282828\n",
      "0.35353535353535354\n",
      "0.4242424242424242\n",
      "0.4949494949494949\n",
      "0.5656565656565656\n",
      "0.6363636363636364\n",
      "0.7070707070707071\n",
      "0.7777777777777778\n",
      "0.8484848484848484\n",
      "0.9191919191919191\n",
      "0.9898989898989898\n",
      "1.0606060606060606\n",
      "1.1313131313131313\n",
      "1.202020202020202\n",
      "1.2727272727272727\n",
      "1.3434343434343434\n",
      "1.4141414141414141\n",
      "1.4848484848484849\n",
      "1.5555555555555556\n",
      "1.6262626262626263\n",
      "1.6969696969696968\n",
      "1.7676767676767675\n",
      "1.8383838383838382\n",
      "1.909090909090909\n",
      "1.9797979797979797\n",
      "2.0505050505050506\n",
      "2.121212121212121\n",
      "2.191919191919192\n",
      "2.2626262626262625\n",
      "2.333333333333333\n",
      "2.404040404040404\n",
      "2.4747474747474745\n",
      "2.5454545454545454\n",
      "2.616161616161616\n",
      "2.686868686868687\n",
      "2.7575757575757573\n",
      "2.8282828282828283\n",
      "2.898989898989899\n",
      "2.9696969696969697\n",
      "3.04040404040404\n",
      "3.111111111111111\n",
      "3.1818181818181817\n",
      "3.2525252525252526\n",
      "3.323232323232323\n",
      "3.3939393939393936\n",
      "3.4646464646464645\n",
      "3.535353535353535\n",
      "3.606060606060606\n",
      "3.6767676767676765\n",
      "3.7474747474747474\n",
      "3.818181818181818\n",
      "3.888888888888889\n",
      "3.9595959595959593\n",
      "4.03030303030303\n",
      "4.101010101010101\n",
      "4.171717171717171\n",
      "4.242424242424242\n",
      "4.313131313131313\n",
      "4.383838383838384\n",
      "4.454545454545454\n",
      "4.525252525252525\n",
      "4.595959595959596\n",
      "4.666666666666666\n",
      "4.737373737373737\n",
      "4.808080808080808\n",
      "4.878787878787879\n",
      "4.949494949494949\n",
      "5.02020202020202\n",
      "5.090909090909091\n",
      "5.161616161616162\n",
      "5.232323232323232\n",
      "5.303030303030303\n",
      "5.373737373737374\n",
      "5.444444444444445\n",
      "5.515151515151515\n",
      "5.585858585858586\n",
      "5.656565656565657\n",
      "5.727272727272727\n",
      "5.797979797979798\n",
      "5.8686868686868685\n",
      "5.9393939393939394\n",
      "6.0101010101010095\n",
      "6.08080808080808\n",
      "6.151515151515151\n",
      "6.222222222222222\n",
      "6.292929292929292\n",
      "6.363636363636363\n",
      "6.434343434343434\n",
      "6.505050505050505\n",
      "6.575757575757575\n",
      "6.646464646464646\n",
      "6.717171717171717\n",
      "6.787878787878787\n",
      "6.858585858585858\n",
      "6.929292929292929\n"
     ]
    }
   ],
   "source": [
    "sol = m1model.solve_forward(e, mass_fractions)"
   ]
  },
  {
   "cell_type": "code",
   "execution_count": 8,
   "metadata": {},
   "outputs": [
    {
     "output_type": "execute_result",
     "data": {
      "text/plain": [
       "<matplotlib.image.AxesImage at 0x7fa06c5c14f0>"
      ]
     },
     "metadata": {},
     "execution_count": 8
    },
    {
     "output_type": "display_data",
     "data": {
      "text/plain": "<Figure size 432x288 with 1 Axes>",
      "image/svg+xml": "<?xml version=\"1.0\" encoding=\"utf-8\" standalone=\"no\"?>\n<!DOCTYPE svg PUBLIC \"-//W3C//DTD SVG 1.1//EN\"\n  \"http://www.w3.org/Graphics/SVG/1.1/DTD/svg11.dtd\">\n<svg height=\"250.764201pt\" version=\"1.1\" viewBox=\"0 0 251.565 250.764201\" width=\"251.565pt\" xmlns=\"http://www.w3.org/2000/svg\" xmlns:xlink=\"http://www.w3.org/1999/xlink\">\n <metadata>\n  <rdf:RDF xmlns:cc=\"http://creativecommons.org/ns#\" xmlns:dc=\"http://purl.org/dc/elements/1.1/\" xmlns:rdf=\"http://www.w3.org/1999/02/22-rdf-syntax-ns#\">\n   <cc:Work>\n    <dc:type rdf:resource=\"http://purl.org/dc/dcmitype/StillImage\"/>\n    <dc:date>2021-05-06T15:44:34.110429</dc:date>\n    <dc:format>image/svg+xml</dc:format>\n    <dc:creator>\n     <cc:Agent>\n      <dc:title>Matplotlib v3.4.1, https://matplotlib.org/</dc:title>\n     </cc:Agent>\n    </dc:creator>\n   </cc:Work>\n  </rdf:RDF>\n </metadata>\n <defs>\n  <style type=\"text/css\">*{stroke-linecap:butt;stroke-linejoin:round;}</style>\n </defs>\n <g id=\"figure_1\">\n  <g id=\"patch_1\">\n   <path d=\"M 0 250.764201 \nL 251.565 250.764201 \nL 251.565 0 \nL 0 0 \nz\n\" style=\"fill:none;\"/>\n  </g>\n  <g id=\"axes_1\">\n   <g id=\"patch_2\">\n    <path d=\"M 26.925 226.886076 \nL 244.365 226.886076 \nL 244.365 9.446076 \nL 26.925 9.446076 \nz\n\" style=\"fill:#ffffff;\"/>\n   </g>\n   <g clip-path=\"url(#pde750048f9)\">\n    <image height=\"218\" id=\"image8e8663d98e\" transform=\"scale(1 -1)translate(0 -218)\" width=\"218\" x=\"26.925\" xlink:href=\"data:image/png;base64,\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\" y=\"-8.886076\"/>\n   </g>\n   <g id=\"matplotlib.axis_1\">\n    <g id=\"xtick_1\">\n     <g id=\"line2d_1\">\n      <defs>\n       <path d=\"M 0 0 \nL 0 3.5 \n\" id=\"m611b745ce4\" style=\"stroke:#000000;stroke-width:0.8;\"/>\n      </defs>\n      <g>\n       <use style=\"stroke:#000000;stroke-width:0.8;\" x=\"28.478143\" xlink:href=\"#m611b745ce4\" y=\"226.886076\"/>\n      </g>\n     </g>\n     <g id=\"text_1\">\n      <!-- 0 -->\n      <g transform=\"translate(25.296893 241.484513)scale(0.1 -0.1)\">\n       <defs>\n        <path d=\"M 2034 4250 \nQ 1547 4250 1301 3770 \nQ 1056 3291 1056 2328 \nQ 1056 1369 1301 889 \nQ 1547 409 2034 409 \nQ 2525 409 2770 889 \nQ 3016 1369 3016 2328 \nQ 3016 3291 2770 3770 \nQ 2525 4250 2034 4250 \nz\nM 2034 4750 \nQ 2819 4750 3233 4129 \nQ 3647 3509 3647 2328 \nQ 3647 1150 3233 529 \nQ 2819 -91 2034 -91 \nQ 1250 -91 836 529 \nQ 422 1150 422 2328 \nQ 422 3509 836 4129 \nQ 1250 4750 2034 4750 \nz\n\" id=\"DejaVuSans-30\" transform=\"scale(0.015625)\"/>\n       </defs>\n       <use xlink:href=\"#DejaVuSans-30\"/>\n      </g>\n     </g>\n    </g>\n    <g id=\"xtick_2\">\n     <g id=\"line2d_2\">\n      <g>\n       <use style=\"stroke:#000000;stroke-width:0.8;\" x=\"59.541\" xlink:href=\"#m611b745ce4\" y=\"226.886076\"/>\n      </g>\n     </g>\n     <g id=\"text_2\">\n      <!-- 10 -->\n      <g transform=\"translate(53.1785 241.484513)scale(0.1 -0.1)\">\n       <defs>\n        <path d=\"M 794 531 \nL 1825 531 \nL 1825 4091 \nL 703 3866 \nL 703 4441 \nL 1819 4666 \nL 2450 4666 \nL 2450 531 \nL 3481 531 \nL 3481 0 \nL 794 0 \nL 794 531 \nz\n\" id=\"DejaVuSans-31\" transform=\"scale(0.015625)\"/>\n       </defs>\n       <use xlink:href=\"#DejaVuSans-31\"/>\n       <use x=\"63.623047\" xlink:href=\"#DejaVuSans-30\"/>\n      </g>\n     </g>\n    </g>\n    <g id=\"xtick_3\">\n     <g id=\"line2d_3\">\n      <g>\n       <use style=\"stroke:#000000;stroke-width:0.8;\" x=\"90.603857\" xlink:href=\"#m611b745ce4\" y=\"226.886076\"/>\n      </g>\n     </g>\n     <g id=\"text_3\">\n      <!-- 20 -->\n      <g transform=\"translate(84.241357 241.484513)scale(0.1 -0.1)\">\n       <defs>\n        <path d=\"M 1228 531 \nL 3431 531 \nL 3431 0 \nL 469 0 \nL 469 531 \nQ 828 903 1448 1529 \nQ 2069 2156 2228 2338 \nQ 2531 2678 2651 2914 \nQ 2772 3150 2772 3378 \nQ 2772 3750 2511 3984 \nQ 2250 4219 1831 4219 \nQ 1534 4219 1204 4116 \nQ 875 4013 500 3803 \nL 500 4441 \nQ 881 4594 1212 4672 \nQ 1544 4750 1819 4750 \nQ 2544 4750 2975 4387 \nQ 3406 4025 3406 3419 \nQ 3406 3131 3298 2873 \nQ 3191 2616 2906 2266 \nQ 2828 2175 2409 1742 \nQ 1991 1309 1228 531 \nz\n\" id=\"DejaVuSans-32\" transform=\"scale(0.015625)\"/>\n       </defs>\n       <use xlink:href=\"#DejaVuSans-32\"/>\n       <use x=\"63.623047\" xlink:href=\"#DejaVuSans-30\"/>\n      </g>\n     </g>\n    </g>\n    <g id=\"xtick_4\">\n     <g id=\"line2d_4\">\n      <g>\n       <use style=\"stroke:#000000;stroke-width:0.8;\" x=\"121.666714\" xlink:href=\"#m611b745ce4\" y=\"226.886076\"/>\n      </g>\n     </g>\n     <g id=\"text_4\">\n      <!-- 30 -->\n      <g transform=\"translate(115.304214 241.484513)scale(0.1 -0.1)\">\n       <defs>\n        <path d=\"M 2597 2516 \nQ 3050 2419 3304 2112 \nQ 3559 1806 3559 1356 \nQ 3559 666 3084 287 \nQ 2609 -91 1734 -91 \nQ 1441 -91 1130 -33 \nQ 819 25 488 141 \nL 488 750 \nQ 750 597 1062 519 \nQ 1375 441 1716 441 \nQ 2309 441 2620 675 \nQ 2931 909 2931 1356 \nQ 2931 1769 2642 2001 \nQ 2353 2234 1838 2234 \nL 1294 2234 \nL 1294 2753 \nL 1863 2753 \nQ 2328 2753 2575 2939 \nQ 2822 3125 2822 3475 \nQ 2822 3834 2567 4026 \nQ 2313 4219 1838 4219 \nQ 1578 4219 1281 4162 \nQ 984 4106 628 3988 \nL 628 4550 \nQ 988 4650 1302 4700 \nQ 1616 4750 1894 4750 \nQ 2613 4750 3031 4423 \nQ 3450 4097 3450 3541 \nQ 3450 3153 3228 2886 \nQ 3006 2619 2597 2516 \nz\n\" id=\"DejaVuSans-33\" transform=\"scale(0.015625)\"/>\n       </defs>\n       <use xlink:href=\"#DejaVuSans-33\"/>\n       <use x=\"63.623047\" xlink:href=\"#DejaVuSans-30\"/>\n      </g>\n     </g>\n    </g>\n    <g id=\"xtick_5\">\n     <g id=\"line2d_5\">\n      <g>\n       <use style=\"stroke:#000000;stroke-width:0.8;\" x=\"152.729571\" xlink:href=\"#m611b745ce4\" y=\"226.886076\"/>\n      </g>\n     </g>\n     <g id=\"text_5\">\n      <!-- 40 -->\n      <g transform=\"translate(146.367071 241.484513)scale(0.1 -0.1)\">\n       <defs>\n        <path d=\"M 2419 4116 \nL 825 1625 \nL 2419 1625 \nL 2419 4116 \nz\nM 2253 4666 \nL 3047 4666 \nL 3047 1625 \nL 3713 1625 \nL 3713 1100 \nL 3047 1100 \nL 3047 0 \nL 2419 0 \nL 2419 1100 \nL 313 1100 \nL 313 1709 \nL 2253 4666 \nz\n\" id=\"DejaVuSans-34\" transform=\"scale(0.015625)\"/>\n       </defs>\n       <use xlink:href=\"#DejaVuSans-34\"/>\n       <use x=\"63.623047\" xlink:href=\"#DejaVuSans-30\"/>\n      </g>\n     </g>\n    </g>\n    <g id=\"xtick_6\">\n     <g id=\"line2d_6\">\n      <g>\n       <use style=\"stroke:#000000;stroke-width:0.8;\" x=\"183.792429\" xlink:href=\"#m611b745ce4\" y=\"226.886076\"/>\n      </g>\n     </g>\n     <g id=\"text_6\">\n      <!-- 50 -->\n      <g transform=\"translate(177.429929 241.484513)scale(0.1 -0.1)\">\n       <defs>\n        <path d=\"M 691 4666 \nL 3169 4666 \nL 3169 4134 \nL 1269 4134 \nL 1269 2991 \nQ 1406 3038 1543 3061 \nQ 1681 3084 1819 3084 \nQ 2600 3084 3056 2656 \nQ 3513 2228 3513 1497 \nQ 3513 744 3044 326 \nQ 2575 -91 1722 -91 \nQ 1428 -91 1123 -41 \nQ 819 9 494 109 \nL 494 744 \nQ 775 591 1075 516 \nQ 1375 441 1709 441 \nQ 2250 441 2565 725 \nQ 2881 1009 2881 1497 \nQ 2881 1984 2565 2268 \nQ 2250 2553 1709 2553 \nQ 1456 2553 1204 2497 \nQ 953 2441 691 2322 \nL 691 4666 \nz\n\" id=\"DejaVuSans-35\" transform=\"scale(0.015625)\"/>\n       </defs>\n       <use xlink:href=\"#DejaVuSans-35\"/>\n       <use x=\"63.623047\" xlink:href=\"#DejaVuSans-30\"/>\n      </g>\n     </g>\n    </g>\n    <g id=\"xtick_7\">\n     <g id=\"line2d_7\">\n      <g>\n       <use style=\"stroke:#000000;stroke-width:0.8;\" x=\"214.855286\" xlink:href=\"#m611b745ce4\" y=\"226.886076\"/>\n      </g>\n     </g>\n     <g id=\"text_7\">\n      <!-- 60 -->\n      <g transform=\"translate(208.492786 241.484513)scale(0.1 -0.1)\">\n       <defs>\n        <path d=\"M 2113 2584 \nQ 1688 2584 1439 2293 \nQ 1191 2003 1191 1497 \nQ 1191 994 1439 701 \nQ 1688 409 2113 409 \nQ 2538 409 2786 701 \nQ 3034 994 3034 1497 \nQ 3034 2003 2786 2293 \nQ 2538 2584 2113 2584 \nz\nM 3366 4563 \nL 3366 3988 \nQ 3128 4100 2886 4159 \nQ 2644 4219 2406 4219 \nQ 1781 4219 1451 3797 \nQ 1122 3375 1075 2522 \nQ 1259 2794 1537 2939 \nQ 1816 3084 2150 3084 \nQ 2853 3084 3261 2657 \nQ 3669 2231 3669 1497 \nQ 3669 778 3244 343 \nQ 2819 -91 2113 -91 \nQ 1303 -91 875 529 \nQ 447 1150 447 2328 \nQ 447 3434 972 4092 \nQ 1497 4750 2381 4750 \nQ 2619 4750 2861 4703 \nQ 3103 4656 3366 4563 \nz\n\" id=\"DejaVuSans-36\" transform=\"scale(0.015625)\"/>\n       </defs>\n       <use xlink:href=\"#DejaVuSans-36\"/>\n       <use x=\"63.623047\" xlink:href=\"#DejaVuSans-30\"/>\n      </g>\n     </g>\n    </g>\n   </g>\n   <g id=\"matplotlib.axis_2\">\n    <g id=\"ytick_1\">\n     <g id=\"line2d_8\">\n      <defs>\n       <path d=\"M 0 0 \nL -3.5 0 \n\" id=\"m5f7610d9ee\" style=\"stroke:#000000;stroke-width:0.8;\"/>\n      </defs>\n      <g>\n       <use style=\"stroke:#000000;stroke-width:0.8;\" x=\"26.925\" xlink:href=\"#m5f7610d9ee\" y=\"10.999219\"/>\n      </g>\n     </g>\n     <g id=\"text_8\">\n      <!-- 0 -->\n      <g transform=\"translate(13.5625 14.798437)scale(0.1 -0.1)\">\n       <use xlink:href=\"#DejaVuSans-30\"/>\n      </g>\n     </g>\n    </g>\n    <g id=\"ytick_2\">\n     <g id=\"line2d_9\">\n      <g>\n       <use style=\"stroke:#000000;stroke-width:0.8;\" x=\"26.925\" xlink:href=\"#m5f7610d9ee\" y=\"42.062076\"/>\n      </g>\n     </g>\n     <g id=\"text_9\">\n      <!-- 10 -->\n      <g transform=\"translate(7.2 45.861295)scale(0.1 -0.1)\">\n       <use xlink:href=\"#DejaVuSans-31\"/>\n       <use x=\"63.623047\" xlink:href=\"#DejaVuSans-30\"/>\n      </g>\n     </g>\n    </g>\n    <g id=\"ytick_3\">\n     <g id=\"line2d_10\">\n      <g>\n       <use style=\"stroke:#000000;stroke-width:0.8;\" x=\"26.925\" xlink:href=\"#m5f7610d9ee\" y=\"73.124933\"/>\n      </g>\n     </g>\n     <g id=\"text_10\">\n      <!-- 20 -->\n      <g transform=\"translate(7.2 76.924152)scale(0.1 -0.1)\">\n       <use xlink:href=\"#DejaVuSans-32\"/>\n       <use x=\"63.623047\" xlink:href=\"#DejaVuSans-30\"/>\n      </g>\n     </g>\n    </g>\n    <g id=\"ytick_4\">\n     <g id=\"line2d_11\">\n      <g>\n       <use style=\"stroke:#000000;stroke-width:0.8;\" x=\"26.925\" xlink:href=\"#m5f7610d9ee\" y=\"104.18779\"/>\n      </g>\n     </g>\n     <g id=\"text_11\">\n      <!-- 30 -->\n      <g transform=\"translate(7.2 107.987009)scale(0.1 -0.1)\">\n       <use xlink:href=\"#DejaVuSans-33\"/>\n       <use x=\"63.623047\" xlink:href=\"#DejaVuSans-30\"/>\n      </g>\n     </g>\n    </g>\n    <g id=\"ytick_5\">\n     <g id=\"line2d_12\">\n      <g>\n       <use style=\"stroke:#000000;stroke-width:0.8;\" x=\"26.925\" xlink:href=\"#m5f7610d9ee\" y=\"135.250647\"/>\n      </g>\n     </g>\n     <g id=\"text_12\">\n      <!-- 40 -->\n      <g transform=\"translate(7.2 139.049866)scale(0.1 -0.1)\">\n       <use xlink:href=\"#DejaVuSans-34\"/>\n       <use x=\"63.623047\" xlink:href=\"#DejaVuSans-30\"/>\n      </g>\n     </g>\n    </g>\n    <g id=\"ytick_6\">\n     <g id=\"line2d_13\">\n      <g>\n       <use style=\"stroke:#000000;stroke-width:0.8;\" x=\"26.925\" xlink:href=\"#m5f7610d9ee\" y=\"166.313504\"/>\n      </g>\n     </g>\n     <g id=\"text_13\">\n      <!-- 50 -->\n      <g transform=\"translate(7.2 170.112723)scale(0.1 -0.1)\">\n       <use xlink:href=\"#DejaVuSans-35\"/>\n       <use x=\"63.623047\" xlink:href=\"#DejaVuSans-30\"/>\n      </g>\n     </g>\n    </g>\n    <g id=\"ytick_7\">\n     <g id=\"line2d_14\">\n      <g>\n       <use style=\"stroke:#000000;stroke-width:0.8;\" x=\"26.925\" xlink:href=\"#m5f7610d9ee\" y=\"197.376362\"/>\n      </g>\n     </g>\n     <g id=\"text_14\">\n      <!-- 60 -->\n      <g transform=\"translate(7.2 201.17558)scale(0.1 -0.1)\">\n       <use xlink:href=\"#DejaVuSans-36\"/>\n       <use x=\"63.623047\" xlink:href=\"#DejaVuSans-30\"/>\n      </g>\n     </g>\n    </g>\n   </g>\n   <g id=\"patch_3\">\n    <path d=\"M 26.925 226.886076 \nL 26.925 9.446076 \n\" style=\"fill:none;stroke:#000000;stroke-linecap:square;stroke-linejoin:miter;stroke-width:0.8;\"/>\n   </g>\n   <g id=\"patch_4\">\n    <path d=\"M 244.365 226.886076 \nL 244.365 9.446076 \n\" style=\"fill:none;stroke:#000000;stroke-linecap:square;stroke-linejoin:miter;stroke-width:0.8;\"/>\n   </g>\n   <g id=\"patch_5\">\n    <path d=\"M 26.925 226.886076 \nL 244.365 226.886076 \n\" style=\"fill:none;stroke:#000000;stroke-linecap:square;stroke-linejoin:miter;stroke-width:0.8;\"/>\n   </g>\n   <g id=\"patch_6\">\n    <path d=\"M 26.925 9.446076 \nL 244.365 9.446076 \n\" style=\"fill:none;stroke:#000000;stroke-linecap:square;stroke-linejoin:miter;stroke-width:0.8;\"/>\n   </g>\n  </g>\n </g>\n <defs>\n  <clipPath id=\"pde750048f9\">\n   <rect height=\"217.44\" width=\"217.44\" x=\"26.925\" y=\"9.446076\"/>\n  </clipPath>\n </defs>\n</svg>\n",
      "image/png": "[encoded data removed]"
     },
     "metadata": {
      "needs_background": "light"
     }
    }
   ],
   "source": [
    "plt.imshow(sol['solution'][-80][0, :, :])"
   ]
  },
  {
   "source": [
    "Calculation of k_ratios (internally solves the m1model again). Note that the k-ratios are not standardized (only a constant factor is used)."
   ],
   "cell_type": "markdown",
   "metadata": {}
  },
  {
   "cell_type": "code",
   "execution_count": 9,
   "metadata": {},
   "outputs": [
    {
     "output_type": "stream",
     "name": "stdout",
     "text": [
      "calculating forward solution\n",
      "0.0\n",
      "0.0707070707070707\n",
      "0.1414141414141414\n",
      "0.2121212121212121\n",
      "0.2828282828282828\n",
      "0.35353535353535354\n",
      "0.4242424242424242\n",
      "0.4949494949494949\n",
      "0.5656565656565656\n",
      "0.6363636363636364\n",
      "0.7070707070707071\n",
      "0.7777777777777778\n",
      "0.8484848484848484\n",
      "0.9191919191919191\n",
      "0.9898989898989898\n",
      "1.0606060606060606\n",
      "1.1313131313131313\n",
      "1.202020202020202\n",
      "1.2727272727272727\n",
      "1.3434343434343434\n",
      "1.4141414141414141\n",
      "1.4848484848484849\n",
      "1.5555555555555556\n",
      "1.6262626262626263\n",
      "1.6969696969696968\n",
      "1.7676767676767675\n",
      "1.8383838383838382\n",
      "1.909090909090909\n",
      "1.9797979797979797\n",
      "2.0505050505050506\n",
      "2.121212121212121\n",
      "2.191919191919192\n",
      "2.2626262626262625\n",
      "2.333333333333333\n",
      "2.404040404040404\n",
      "2.4747474747474745\n",
      "2.5454545454545454\n",
      "2.616161616161616\n",
      "2.686868686868687\n",
      "2.7575757575757573\n",
      "2.8282828282828283\n",
      "2.898989898989899\n",
      "2.9696969696969697\n",
      "3.04040404040404\n",
      "3.111111111111111\n",
      "3.1818181818181817\n",
      "3.2525252525252526\n",
      "3.323232323232323\n",
      "3.3939393939393936\n",
      "3.4646464646464645\n",
      "3.535353535353535\n",
      "3.606060606060606\n",
      "3.6767676767676765\n",
      "3.7474747474747474\n",
      "3.818181818181818\n",
      "3.888888888888889\n",
      "3.9595959595959593\n",
      "4.03030303030303\n",
      "4.101010101010101\n",
      "4.171717171717171\n",
      "4.242424242424242\n",
      "4.313131313131313\n",
      "4.383838383838384\n",
      "4.454545454545454\n",
      "4.525252525252525\n",
      "4.595959595959596\n",
      "4.666666666666666\n",
      "4.737373737373737\n",
      "4.808080808080808\n",
      "4.878787878787879\n",
      "4.949494949494949\n",
      "5.02020202020202\n",
      "5.090909090909091\n",
      "5.161616161616162\n",
      "5.232323232323232\n",
      "5.303030303030303\n",
      "5.373737373737374\n",
      "5.444444444444445\n",
      "5.515151515151515\n",
      "5.585858585858586\n",
      "5.656565656565657\n",
      "5.727272727272727\n",
      "5.797979797979798\n",
      "5.8686868686868685\n",
      "5.9393939393939394\n",
      "6.0101010101010095\n",
      "6.08080808080808\n",
      "6.151515151515151\n",
      "6.222222222222222\n",
      "6.292929292929292\n",
      "6.363636363636363\n",
      "6.434343434343434\n",
      "6.505050505050505\n",
      "6.575757575757575\n",
      "6.646464646464646\n",
      "6.717171717171717\n",
      "6.787878787878787\n",
      "6.858585858585858\n",
      "6.929292929292929\n"
     ]
    }
   ],
   "source": [
    "k = k_ratios(e, params)"
   ]
  },
  {
   "cell_type": "code",
   "execution_count": 10,
   "metadata": {},
   "outputs": [
    {
     "output_type": "execute_result",
     "data": {
      "text/plain": [
       "DeviceArray([3.66213766e+14, 4.77026436e+14, 9.33330389e+14], dtype=float64)"
      ]
     },
     "metadata": {},
     "execution_count": 10
    }
   ],
   "source": [
    "k"
   ]
  },
  {
   "source": [
    "Calculation of the k-ratios and their jacobian w.r.t. the material parameters. (This might take a while, because jax compiles the derivative functions)"
   ],
   "cell_type": "markdown",
   "metadata": {}
  },
  {
   "cell_type": "code",
   "execution_count": 11,
   "metadata": {},
   "outputs": [
    {
     "output_type": "stream",
     "name": "stdout",
     "text": [
      "solving forward\n",
      "calculating forward solution\n",
      "0.0\n",
      "0.0707070707070707\n",
      "0.1414141414141414\n",
      "0.2121212121212121\n",
      "0.2828282828282828\n",
      "0.35353535353535354\n",
      "0.4242424242424242\n",
      "0.4949494949494949\n",
      "0.5656565656565656\n",
      "0.6363636363636364\n",
      "0.7070707070707071\n",
      "0.7777777777777778\n",
      "0.8484848484848484\n",
      "0.9191919191919191\n",
      "0.9898989898989898\n",
      "1.0606060606060606\n",
      "1.1313131313131313\n",
      "1.202020202020202\n",
      "1.2727272727272727\n",
      "1.3434343434343434\n",
      "1.4141414141414141\n",
      "1.4848484848484849\n",
      "1.5555555555555556\n",
      "1.6262626262626263\n",
      "1.6969696969696968\n",
      "1.7676767676767675\n",
      "1.8383838383838382\n",
      "1.909090909090909\n",
      "1.9797979797979797\n",
      "2.0505050505050506\n",
      "2.121212121212121\n",
      "2.191919191919192\n",
      "2.2626262626262625\n",
      "2.333333333333333\n",
      "2.404040404040404\n",
      "2.4747474747474745\n",
      "2.5454545454545454\n",
      "2.616161616161616\n",
      "2.686868686868687\n",
      "2.7575757575757573\n",
      "2.8282828282828283\n",
      "2.898989898989899\n",
      "2.9696969696969697\n",
      "3.04040404040404\n",
      "3.111111111111111\n",
      "3.1818181818181817\n",
      "3.2525252525252526\n",
      "3.323232323232323\n",
      "3.3939393939393936\n",
      "3.4646464646464645\n",
      "3.535353535353535\n",
      "3.606060606060606\n",
      "3.6767676767676765\n",
      "3.7474747474747474\n",
      "3.818181818181818\n",
      "3.888888888888889\n",
      "3.9595959595959593\n",
      "4.03030303030303\n",
      "4.101010101010101\n",
      "4.171717171717171\n",
      "4.242424242424242\n",
      "4.313131313131313\n",
      "4.383838383838384\n",
      "4.454545454545454\n",
      "4.525252525252525\n",
      "4.595959595959596\n",
      "4.666666666666666\n",
      "4.737373737373737\n",
      "4.808080808080808\n",
      "4.878787878787879\n",
      "4.949494949494949\n",
      "5.02020202020202\n",
      "5.090909090909091\n",
      "5.161616161616162\n",
      "5.232323232323232\n",
      "5.303030303030303\n",
      "5.373737373737374\n",
      "5.444444444444445\n",
      "5.515151515151515\n",
      "5.585858585858586\n",
      "5.656565656565657\n",
      "5.727272727272727\n",
      "5.797979797979798\n",
      "5.8686868686868685\n",
      "5.9393939393939394\n",
      "6.0101010101010095\n",
      "6.08080808080808\n",
      "6.151515151515151\n",
      "6.222222222222222\n",
      "6.292929292929292\n",
      "6.363636363636363\n",
      "6.434343434343434\n",
      "6.505050505050505\n",
      "6.575757575757575\n",
      "6.646464646464646\n",
      "6.717171717171717\n",
      "6.787878787878787\n",
      "6.858585858585858\n",
      "6.929292929292929\n",
      "extraction operator\n",
      "extraction opertator jacobian\n",
      "calculating\n",
      "solving adjoint\n",
      "calculating adjoint solution\n",
      "scalar product jacobian\n",
      "adding to jacobian\n",
      "solving adjoint\n",
      "calculating adjoint solution\n",
      "scalar product jacobian\n",
      "adding to jacobian\n",
      "solving adjoint\n",
      "calculating adjoint solution\n",
      "scalar product jacobian\n",
      "adding to jacobian\n"
     ]
    }
   ],
   "source": [
    "k, jac = k_ratios_jacobian(e, params)\n"
   ]
  },
  {
   "cell_type": "code",
   "execution_count": 12,
   "metadata": {},
   "outputs": [
    {
     "output_type": "execute_result",
     "data": {
      "text/plain": [
       "DeviceArray([[[[ 1.13907627e+15,  1.08803109e+13]]],\n",
       "\n",
       "\n",
       "             [[[ 4.22811560e+13,  1.46389582e+15]]],\n",
       "\n",
       "\n",
       "             [[[-2.70486691e+15, -2.75114424e+15]]]], dtype=float64)"
      ]
     },
     "metadata": {},
     "execution_count": 12
    }
   ],
   "source": [
    "jac"
   ]
  }
 ]
}