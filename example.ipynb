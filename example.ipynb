{
 "metadata": {
  "language_info": {
   "codemirror_mode": {
    "name": "ipython",
    "version": 3
   },
   "file_extension": ".py",
   "mimetype": "text/x-python",
   "name": "python",
   "nbconvert_exporter": "python",
   "pygments_lexer": "ipython3",
   "version": "3.9.4"
  },
  "orig_nbformat": 2,
  "kernelspec": {
   "name": "python3",
   "display_name": "Python 3",
   "language": "python"
  }
 },
 "nbformat": 4,
 "nbformat_minor": 2,
 "cells": [
  {
   "source": [
    "# Example Usage of the M1EPMA Software\n",
    "\n",
    "- calculation of a forward solution\n",
    "- calculation of k-ratios (standardized by a constant)\n",
    "- calculation of the jacobian of these k-ratios w.r.t. the material parameters"
   ],
   "cell_type": "markdown",
   "metadata": {}
  },
  {
   "cell_type": "code",
   "execution_count": 1,
   "metadata": {},
   "outputs": [],
   "source": [
    "import numpy as np\n",
    "from physics import Copper, Nickel, Chromium, XRay, Material, Detector, ElectronBeam\n",
    "from scipy.constants import kilo, electron_volt, nano\n",
    "import matplotlib.pyplot as plt\n",
    "from experiment import Experiment, k_ratios, mass_fractions_from_parameters, k_ratios_jacobian\n",
    "import m1model"
   ]
  },
  {
   "source": [
    "Definition of the elements and k-ratios / xrays to be considered in the material."
   ],
   "cell_type": "markdown",
   "metadata": {}
  },
  {
   "cell_type": "code",
   "execution_count": 2,
   "metadata": {},
   "outputs": [],
   "source": [
    "elements = [Copper(), Nickel(), Chromium()]\n",
    "n_elements = len(elements)\n",
    "x_rays = [XRay(e, 1.e-12) for e in elements]"
   ]
  },
  {
   "source": [
    "Definition of the energy range. ($\\epsilon_{initial} > \\epsilon_{beam}$, otherwise the beam is not captured)"
   ],
   "cell_type": "markdown",
   "metadata": {}
  },
  {
   "cell_type": "code",
   "execution_count": 3,
   "metadata": {},
   "outputs": [],
   "source": [
    "eps_initial_keV = 17.\n",
    "eps_cutoff_keV = 10."
   ]
  },
  {
   "source": [
    "Definition of the material domain and grid (reconstruction  pixel, and finite volume cells), the detector (position) and the electron beam (size, position, energy).\n"
   ],
   "cell_type": "markdown",
   "metadata": {}
  },
  {
   "cell_type": "code",
   "execution_count": 4,
   "metadata": {},
   "outputs": [],
   "source": [
    "m = Material(1, 1, 70, 70, [0., 1000.*nano], [-800.*nano, 0.])\n",
    "detector = Detector(500.*nano, 50.*nano, m)\n",
    "e_beam = ElectronBeam([(30.*nano)**2, (30.*nano)**2], [500. * nano, 0. * nano], 16., 0.1)\n",
    "#plt.plot(np.linspace(0, 1000.*nano), [e_beam.intensity_dist(x, 0.*nano, e_beam.beam_energy_keV) for x in np.linspace(0, 1000.*nano)]) # plots to visualize the beam distribution over the computationl domain\n",
    "#plt.plot(np.linspace(eps_cutoff_keV, eps_initial_keV), [e_beam.intensity_dist(500.*nano, 0.*nano, e) for e in np.linspace(eps_cutoff_keV, eps_initial_keV)])\n"
   ]
  },
  {
   "source": [
    "Definition of the Experiment (a specific electron beam / detector setup)"
   ],
   "cell_type": "markdown",
   "metadata": {}
  },
  {
   "cell_type": "code",
   "execution_count": 5,
   "metadata": {},
   "outputs": [],
   "source": [
    "e = Experiment(m, detector, e_beam, elements, x_rays, eps_initial_keV, eps_cutoff_keV, 100)"
   ]
  },
  {
   "source": [
    "Definition of the parameter vector (the shape of the vector is given by the material definition).\n",
    "Mass fractions can be calculated from the parameters."
   ],
   "cell_type": "markdown",
   "metadata": {}
  },
  {
   "source": [
    "params = np.full(e.parameter_dimensions, 0.33)\n",
    "mass_fractions = mass_fractions_from_parameters(m.n_x, m.n_y, params)"
   ],
   "cell_type": "code",
   "metadata": {},
   "execution_count": 6,
   "outputs": []
  },
  {
   "source": [
    "Solving the m1model and displaying a snapshot of it."
   ],
   "cell_type": "markdown",
   "metadata": {}
  },
  {
   "cell_type": "code",
   "execution_count": 7,
   "metadata": {},
   "outputs": [
    {
     "output_type": "stream",
     "name": "stdout",
     "text": [
      "calculating forward solution\n"
     ]
    }
   ],
   "source": [
    "sol = m1model.solve_forward(e, mass_fractions)"
   ]
  },
  {
   "cell_type": "code",
   "execution_count": 8,
   "metadata": {},
   "outputs": [
    {
     "output_type": "display_data",
     "data": {
      "text/plain": "<Figure size 432x288 with 1 Axes>",
      "image/svg+xml": "<?xml version=\"1.0\" encoding=\"utf-8\" standalone=\"no\"?>\n<!DOCTYPE svg PUBLIC \"-//W3C//DTD SVG 1.1//EN\"\n  \"http://www.w3.org/Graphics/SVG/1.1/DTD/svg11.dtd\">\n<svg height=\"279.11625pt\" version=\"1.1\" viewBox=\"0 0 329.571875 279.11625\" width=\"329.571875pt\" xmlns=\"http://www.w3.org/2000/svg\" xmlns:xlink=\"http://www.w3.org/1999/xlink\">\n <metadata>\n  <rdf:RDF xmlns:cc=\"http://creativecommons.org/ns#\" xmlns:dc=\"http://purl.org/dc/elements/1.1/\" xmlns:rdf=\"http://www.w3.org/1999/02/22-rdf-syntax-ns#\">\n   <cc:Work>\n    <dc:type rdf:resource=\"http://purl.org/dc/dcmitype/StillImage\"/>\n    <dc:date>2021-05-10T22:09:41.259621</dc:date>\n    <dc:format>image/svg+xml</dc:format>\n    <dc:creator>\n     <cc:Agent>\n      <dc:title>Matplotlib v3.4.1, https://matplotlib.org/</dc:title>\n     </cc:Agent>\n    </dc:creator>\n   </cc:Work>\n  </rdf:RDF>\n </metadata>\n <defs>\n  <style type=\"text/css\">*{stroke-linecap:butt;stroke-linejoin:round;}</style>\n </defs>\n <g id=\"figure_1\">\n  <g id=\"patch_1\">\n   <path d=\"M 0 279.11625 \nL 329.571875 279.11625 \nL 329.571875 0 \nL 0 0 \nz\n\" style=\"fill:none;\"/>\n  </g>\n  <g id=\"axes_1\">\n   <g id=\"patch_2\">\n    <path d=\"M 42.620312 241.56 \nL 314.420313 241.56 \nL 314.420313 24.12 \nL 42.620312 24.12 \nz\n\" style=\"fill:#ffffff;\"/>\n   </g>\n   <g clip-path=\"url(#p6f3caeaf25)\">\n    <image height=\"218\" id=\"image13b0f299c5\" transform=\"scale(1 -1)translate(0 -218)\" width=\"272\" x=\"42.620312\" xlink:href=\"data:image/png;base64,\niVBORw0KGgoAAAANSUhEUgAAARAAAADaCAYAAABuDh1zAAAQ8klEQVR4nO3d247dRnaHcZL70CcdLDljzCRBMAkSIA+SR8jb5yYIEGTGmNgeW5Z6H0jmwoh2ra/ULO0ltdXd/n5XXeA+clNL9WcVi/2/9f8+d5KUMHzpDyDp8bKASEqzgEhKs4BISrOASEqzgEhKs4BISrOASEqzgEhKs4BISrOASEqzgEhKs4BISrOASEqzgEhKs4BISrOASEqzgEhKs4BISrOASEqzgEhKs4BISrOASEqzgEhKs4BISrOASEqzgEhKs4BISrOASEqzgEhKs4BISrOASEqzgEhKs4BISrOASEqzgEhKs4BISrOASEqzgEhKs4BISrOASEqzgEhKs4BISrOASEqzgEhKs4BISrOASEqzgEhKs4BISrOASEqzgEhKs4BISrOASEqzgEhKs4BISrOASEqzgEhKs4BISrOASEqzgEhKs4BISrOASEqzgEhKs4BISrOASEqzgEhKs4BISrOASEqzgEhKs4BISrOASEqzgEhKs4BISrOASEqzgEhKs4BISrOASEqzgEhKs4BISrOASEqzgEhKs4BISrOASEqzgEhKs4BISrOASEqzgEhKs4BISrOASEqzgEhKs4BISrOASEqzgEhKs4BISrOASEqzgEhKs4BISrOASEqzgEhKs4BISrOASEqzgEhKs4BISrOASEqzgEhKs4BISrOASEqzgEhKW3/pD6B71vdf9v3n+cu+v+6VPRBJaRYQSWlGmMfgc8aQ/p7/z5gnvN8nfHbjz4NnD0RSmgVEUpoR5iE4t5vfiCH9sPB69x5h7n7veWpEknPjjxHni7MHIinNAiIpzQjza2h1xc+NJHz8QmTp+d7DPf+fMcUYMhcxo1/xsYggiD/NyNNNy5uNOPfOHoikNAuIpDQjzOeyFFM+MaL0K0YWtPHe/arICp8Qfz5KFUNirOiL7fM44rF4LuJPN6KN156n1v9/CxHHePNZ2AORlGYBkZRmAZGU5jmQrDPOeZx9jmO1wvbV4vZu4fk9z5fwuZ96oR7PJeA8x1yc1+h5DoTnOKrtrfaZ50jK7fzenhNJsQciKc0CIinNCPOx2OVdiimNoVJGkn6Nn4ExA9v77Qbb7444M7ehPTPinDky2nPo9RhjRl+2GUHw2Hl/wHOP8fHV8+N2DhP3/d0zXetZroxDRpqPYQ9EUpoFRFKaEeYu50QWbK9GVTYxclSRpRVR0J7ZvojPnzenmDJtsW2FC9bWnNXaLUPPvj9i5ukYHzDsTzGjPyBi7GIE6RFhOrSriMOox8hzwPOLt++H1qxWI83HsAciKc0CIinNCPP/zo0sC5O9qoiyYUTZxu0XsT2zfRkjy3QV2+NlfP3x4vTZp238HuM2fo9pjUjT+C+lR89+OMau/WrPCHP6rKtdfPLqNkaO4R0iyi3au318c7b3/A3RLiJONWLTcQKckeZj2AORlGYBkZT2240wnzGydB1GTjYxgvRVJGH7IrSna0SUm9g+Xsf3PlzHz368OrXH+NLdeMEIE7fPXHYQeszlGjDwsdoh0uxOL7h+F2PA5m18s/Xb+GFWP8f2gO39evk3mYcYccJvivTDQGKk+Tj2QCSlWUAkpf12Isx9RpauC7GlRySZr9C+ju3jsy3a8bUPz+Jn3aN9eBY/+/G6+PsqfszxMna1qwizXu6K98f4XlWEuY3b1++KvxFZNm/i99iivblAxNmi/YbX8eA3xW9efrNqvpyRJsUeiKQ0C4iktKcbYX7FyNJ1MbbM15dh2/QMkeV5bB+ex59h9wKR5UW/2D48j93l47NTe7qOXe/hKmaO9TZuX68xzALHY9wvxz1GhN5x5KQYhXkTP/fmJ0SvK0QajBhdbJav41njOp+Bq9WXz+26O7d1XWek+Uj2QCSlWUAkpT2tCHPOAsHVwsaNVcIWIkvXxdhSRZYXsb1/GV/79uUK2+P32H0VP8r+q9g9nl7EWHLxYvf+76+evQvbvrqM7Rfb29C+XOGSergdY5T7cR/j2g+3cdjnhzen9u5H7Jfru6/h6bqumzaN63Y46Q0/Pw/u8tV5pFQRpXFf3npFs+XoF47NJxRn7IFISrOASEp7WhGm1IoojXuxcBWw1vUsUzE5jKMsrciye43I8ip2cfevYmQZXschgr95+XNo/+H5j+///ofr78O231/8NbRfreNznw8x4tBPU4wo3x9vQvtPu5eh/V83r97//T/XL+Jzr+Jzd4iJHGXhampd17hwB0lhXezGAYtB94gV87w8ilItJs23ZqLh6z0R9kAkpVlAJKVZQCSlPe5zIAuzTauZpq2Zp1wZfdNYGR0XxI3FBXH1zFKc83jVOOfxdczL69dxqPWbVz+F9h9ffBfa/3Lz7fu///Hi27Dt7zbxnMjXw9vQvubVcfAWV9/973Qd2v+9fRXav9t+8/7v/9h8E7b95/p1aH87PA/t/RCHiKv/72bMNMW4LtcuKVeM5zmMfmR7+T68M8+B8BwJPlucqfp0ZqnaA5GUZgGRlPa4I8yS5jDu8rBttVI61vQYr+P2w7PTrtw/b10MF9+KM0uHV7vQ/h0iyz+9/Eto/+vNn0P7ny//9P7vP27iY3+/iq/9coj74bpnbIjeznEI+fUUh4WfD5jZOpxmtm6QKQYs8c6O/J8RA/ZYn7HHhX1DtVYJjoHjuvgbM4t5gyxGlCryIOJwGPjcmaqPlD0QSWkWEElpjyvCnLPGR2PUpbrZE0ZheP/ZiTdvuort483ps+yxxOA+Di50hxfoHuNiuBe4AO4PNz+G9t9f/hDaf7vFbNP1KVZ8PcTI8hz77LqPXflNvzy787rDDNw+vv4B73dbfJa32xhB3iCSvEWseLePv8EPXHsEN5IaDvG7Ddi+2p+2r3ZYt2SP9gEzkQ/xN5o3XAsSkYU3riri2FNaO8QeiKQ0C4iktMcVYVrKiWSti+e43gcnilUR5uNv7nS8xlJ9N7FLOt7ELuvFdRzZeHkVRzJebWOkebmO7WvEhtIeN7v9GRd1jVN8r02//H/KAc+/RXeb77f0Ofk9qu+J/fAWI1+7GyyviBXhj++w9ONtEWFu43NXO0SWHSIIIkx5n92u+8CoDG9yFUZlns6IjD0QSWkWEElpDzvCnLuyetnmcxvXvvCs+sxRl0t0l6/QXb4st8W35s2cusvYhb3Yxu7wzSZGmovm9SlxNOO78dn7vw+4PmQzxffedsuTu2hCRNljTQ6+X7l+CD8n8XtW+wH7aYf9OF7yHsFLvxFvgIVJaRilmfeNUTtEmq5Huzg2l6+T6brHNCpjD0RSmgVEUtrDjjAtjDRFbKmudRmWJ5KxPeE+rFwxfMRNj8bLU5s99ekidkGHDS7XXy2fld/hEvrvsIzgiFjx3XCKMLz+5NdWRprbKY50/HWMWY/fk7ifuB+5n/k7lL9R9fvh913h9x8ax0u3b1xrVYzSzNVI1+MdlbEHIinNAiIp7WFFmMaNoZqrjA1FPaxGXTCxh+1NbDcjDG56NBZznKYNLu1eIcIMy2fVd2P8Wb7fs6sfP9tf+mehPfSn1z8i3owYATjitab6LrHxtXHR/XqI3e9Vj+3FqM6E9z7gs/FaGO4H6rEfJ+xn/g7jtogw/P14U6vt8vHRrRvH15ERunj91uplTDT8d/GARmXsgUhKs4BISntYEYYa12VUytjSupyf1yrgJka8DysHCDCgEO7T2rpnKxcD3h/ji/+0i8MHhxHXbQwYfWA0KB5/xCSlw4jJVnjtVueYX4UjI5sVRpiKz7rhKArizojPeov9wv3E/cgPx9+hbPP3q35f3ocXx0c1ylKN+i0cf7xuhnjcP+CbUtkDkZRmAZGUZgGRlPawz4HQwszTqs2Zp9XNtHHjZt7IuXFjZy57sbAMRtdPOJ+Cpfd2uHBrwuPf9PGcSL16HoZqiyHEESuTz2h3I7J6K27ze2LotF/HF1gV7dUaQ744X9IarTwcMOSM/cj9TOVvVP1+/H0bx0PreOLx15cX1+GLPuaZqfZAJKVZQCSlPa4IQwO7jQursuOxM9uMNK2IstRbZgzADY/mfXyxw4zlEvccrkSTMQSv3xdd+54rk/OxvH9sI8LUXf/Yntac/VnMisXFb916Of5Uw7KMW4wwxzPiGF+78XvXxwfXplk4FtnmY8eHO0zbYg9EUpoFRFLa444wCzhCU53iZxeVkWT5hH79fkUvlCsQ8gZHE866z4w4fG103YcD2tUNlk5/r7CtWmmPqyWeORWVMzhnzOAsI8y04QVruOiwcRFi9VF4L1zuB64yeE5SYMTh8VBF2oURwa69Wx8reyCS0iwgktK+bIT51PU/llZtZxey9dwzsTtcjmYwYqw42WpaHvFZeu2uq2PJEBcvD+0Vtx3wWT73KEy1Tkqx1OMWj93eHXc+9Nqt/VRFR/wO5Xc9K858SOP4qiP03ccmj+vHtD6IPRBJaRYQSWlPdhTmk6FX2IoV5cjHXO1VdFEbe33ptT/UXuHWuKv96cMz3qzuOcKMWGdjVcSWkZEFq6YPiD9La658SB1h7m43v/dTHTb5zOyBSEqzgEhKe1gR5twlDD/nWzcjC1ZW5ySmsrvcGi1A15rd5WZXfB+fsBRhVnzukRFmOdJQvUwgRpxwRI1FhBowCsPvxVGZ1rKDnOzV2s9lu5pkxv3A3/9LRpoHvMShPRBJaRYQSWkPK8Lco37CJCV0WTts74+xmzjgEnpOyIoxYvn6k3qV9thkzKhGXTiywkgTRmEYvZa/Z6urzmtCWqvZD0UsGTi6hGt8Rny2OsIsr8JejZxxAt6u2C8H7hc8F/uFx0dXRZ7f5rCNPRBJaRYQSWkPK8JUZ5cbM4cWX4sRBV31iREF7ZGxADdz4qK7xfUMPd67NQGqPQpzd0T5ULuMLcOB37MxCtPoivOaj5mvt+b1J8XqaCO3LbcnjHRxtbPWkgtLE/Lqfbj8+/P44PHD4+uzXp/ygEZdyB6IpDQLiKS0hxVhWti9Zjex6OrN2MZYUS1kyy4qu/5YwJdd4HL4YkLXeVot97UZG6oIg5hQjib88tlwL5aiO87vUU8c+8RRGCw2XK0SVrwf733b4342nLw1YT9Uq59xiQaoY8jp7yr28Rqhw/LxUR0/jK0Lx2Ydrx/vCI49EElpFhBJaRYQSWlf9hwIsyCXiePsUA6HVkNpxeNHnIhgZsX2/hDbA27+xBmXqyp/F+cduIr60FhdnBeBMbs3ZpMOHII8lOdA8D15zoMzchvDj9Vq47i/bXUDpvLl7j5t9Eub9xDmxXVcvf7c/Vrst+o8Evfhfvn4OPf4Cscmj1vgcV8/4OGcM7EHIinNAiIp7XEN41Yz8thdPnXt2FXvjnFMsD8iDx3i9irCrJZrbbnSOi/6ag03chi3XtdiedZsPeRctPlYRrczI0y1IvjENh4eIszy0Ho9rIsLGBFZzt2vZYSpIsuOEZYRhscPIgqOL0aaalg3bHy4M01b7IFISrOASEp7XBEGqtmmZfecowWMMIcYYfoBtRTdYw4AVd3vYr2QYeFCu18ejBfjxXQcKakugGOEQXe7iC31uhbnzais8B6w1exSxIxi+8Abak34DTi6hM8+MUa21gNZWOOlunjyFsfHLi7CwgjDyMvjqx6lObUX48wjYw9EUpoFRFLaw4owVdcOZ7LZXe5iNzE8m11tTkLq+VpR6+K7aiRkU3THV41RGLbZ1eZuaKxFUcWUcoSAj21FlnNHYbhfq4vrivVA1jGyzPjcM2MkomA16NLajwvLEFaxb9+ILNg+o81RmBkRJrS5rbpI9B7XFvnM7IFISrOASEr7P0lT4CVwqnFPAAAAAElFTkSuQmCC\" y=\"-23.56\"/>\n   </g>\n   <g id=\"matplotlib.axis_1\">\n    <g id=\"xtick_1\">\n     <g id=\"line2d_1\">\n      <defs>\n       <path d=\"M 0 0 \nL 0 3.5 \n\" id=\"m1f5955c8d3\" style=\"stroke:#000000;stroke-width:0.8;\"/>\n      </defs>\n      <g>\n       <use style=\"stroke:#000000;stroke-width:0.8;\" x=\"42.620312\" xlink:href=\"#m1f5955c8d3\" y=\"241.56\"/>\n      </g>\n     </g>\n     <g id=\"text_1\">\n      <!-- 0.0 -->\n      <g transform=\"translate(34.66875 256.158437)scale(0.1 -0.1)\">\n       <defs>\n        <path d=\"M 2034 4250 \nQ 1547 4250 1301 3770 \nQ 1056 3291 1056 2328 \nQ 1056 1369 1301 889 \nQ 1547 409 2034 409 \nQ 2525 409 2770 889 \nQ 3016 1369 3016 2328 \nQ 3016 3291 2770 3770 \nQ 2525 4250 2034 4250 \nz\nM 2034 4750 \nQ 2819 4750 3233 4129 \nQ 3647 3509 3647 2328 \nQ 3647 1150 3233 529 \nQ 2819 -91 2034 -91 \nQ 1250 -91 836 529 \nQ 422 1150 422 2328 \nQ 422 3509 836 4129 \nQ 1250 4750 2034 4750 \nz\n\" id=\"DejaVuSans-30\" transform=\"scale(0.015625)\"/>\n        <path d=\"M 684 794 \nL 1344 794 \nL 1344 0 \nL 684 0 \nL 684 794 \nz\n\" id=\"DejaVuSans-2e\" transform=\"scale(0.015625)\"/>\n       </defs>\n       <use xlink:href=\"#DejaVuSans-30\"/>\n       <use x=\"63.623047\" xlink:href=\"#DejaVuSans-2e\"/>\n       <use x=\"95.410156\" xlink:href=\"#DejaVuSans-30\"/>\n      </g>\n     </g>\n    </g>\n    <g id=\"xtick_2\">\n     <g id=\"line2d_2\">\n      <g>\n       <use style=\"stroke:#000000;stroke-width:0.8;\" x=\"96.980312\" xlink:href=\"#m1f5955c8d3\" y=\"241.56\"/>\n      </g>\n     </g>\n     <g id=\"text_2\">\n      <!-- 0.2 -->\n      <g transform=\"translate(89.02875 256.158437)scale(0.1 -0.1)\">\n       <defs>\n        <path d=\"M 1228 531 \nL 3431 531 \nL 3431 0 \nL 469 0 \nL 469 531 \nQ 828 903 1448 1529 \nQ 2069 2156 2228 2338 \nQ 2531 2678 2651 2914 \nQ 2772 3150 2772 3378 \nQ 2772 3750 2511 3984 \nQ 2250 4219 1831 4219 \nQ 1534 4219 1204 4116 \nQ 875 4013 500 3803 \nL 500 4441 \nQ 881 4594 1212 4672 \nQ 1544 4750 1819 4750 \nQ 2544 4750 2975 4387 \nQ 3406 4025 3406 3419 \nQ 3406 3131 3298 2873 \nQ 3191 2616 2906 2266 \nQ 2828 2175 2409 1742 \nQ 1991 1309 1228 531 \nz\n\" id=\"DejaVuSans-32\" transform=\"scale(0.015625)\"/>\n       </defs>\n       <use xlink:href=\"#DejaVuSans-30\"/>\n       <use x=\"63.623047\" xlink:href=\"#DejaVuSans-2e\"/>\n       <use x=\"95.410156\" xlink:href=\"#DejaVuSans-32\"/>\n      </g>\n     </g>\n    </g>\n    <g id=\"xtick_3\">\n     <g id=\"line2d_3\">\n      <g>\n       <use style=\"stroke:#000000;stroke-width:0.8;\" x=\"151.340312\" xlink:href=\"#m1f5955c8d3\" y=\"241.56\"/>\n      </g>\n     </g>\n     <g id=\"text_3\">\n      <!-- 0.4 -->\n      <g transform=\"translate(143.38875 256.158437)scale(0.1 -0.1)\">\n       <defs>\n        <path d=\"M 2419 4116 \nL 825 1625 \nL 2419 1625 \nL 2419 4116 \nz\nM 2253 4666 \nL 3047 4666 \nL 3047 1625 \nL 3713 1625 \nL 3713 1100 \nL 3047 1100 \nL 3047 0 \nL 2419 0 \nL 2419 1100 \nL 313 1100 \nL 313 1709 \nL 2253 4666 \nz\n\" id=\"DejaVuSans-34\" transform=\"scale(0.015625)\"/>\n       </defs>\n       <use xlink:href=\"#DejaVuSans-30\"/>\n       <use x=\"63.623047\" xlink:href=\"#DejaVuSans-2e\"/>\n       <use x=\"95.410156\" xlink:href=\"#DejaVuSans-34\"/>\n      </g>\n     </g>\n    </g>\n    <g id=\"xtick_4\">\n     <g id=\"line2d_4\">\n      <g>\n       <use style=\"stroke:#000000;stroke-width:0.8;\" x=\"205.700312\" xlink:href=\"#m1f5955c8d3\" y=\"241.56\"/>\n      </g>\n     </g>\n     <g id=\"text_4\">\n      <!-- 0.6 -->\n      <g transform=\"translate(197.74875 256.158437)scale(0.1 -0.1)\">\n       <defs>\n        <path d=\"M 2113 2584 \nQ 1688 2584 1439 2293 \nQ 1191 2003 1191 1497 \nQ 1191 994 1439 701 \nQ 1688 409 2113 409 \nQ 2538 409 2786 701 \nQ 3034 994 3034 1497 \nQ 3034 2003 2786 2293 \nQ 2538 2584 2113 2584 \nz\nM 3366 4563 \nL 3366 3988 \nQ 3128 4100 2886 4159 \nQ 2644 4219 2406 4219 \nQ 1781 4219 1451 3797 \nQ 1122 3375 1075 2522 \nQ 1259 2794 1537 2939 \nQ 1816 3084 2150 3084 \nQ 2853 3084 3261 2657 \nQ 3669 2231 3669 1497 \nQ 3669 778 3244 343 \nQ 2819 -91 2113 -91 \nQ 1303 -91 875 529 \nQ 447 1150 447 2328 \nQ 447 3434 972 4092 \nQ 1497 4750 2381 4750 \nQ 2619 4750 2861 4703 \nQ 3103 4656 3366 4563 \nz\n\" id=\"DejaVuSans-36\" transform=\"scale(0.015625)\"/>\n       </defs>\n       <use xlink:href=\"#DejaVuSans-30\"/>\n       <use x=\"63.623047\" xlink:href=\"#DejaVuSans-2e\"/>\n       <use x=\"95.410156\" xlink:href=\"#DejaVuSans-36\"/>\n      </g>\n     </g>\n    </g>\n    <g id=\"xtick_5\">\n     <g id=\"line2d_5\">\n      <g>\n       <use style=\"stroke:#000000;stroke-width:0.8;\" x=\"260.060313\" xlink:href=\"#m1f5955c8d3\" y=\"241.56\"/>\n      </g>\n     </g>\n     <g id=\"text_5\">\n      <!-- 0.8 -->\n      <g transform=\"translate(252.10875 256.158437)scale(0.1 -0.1)\">\n       <defs>\n        <path d=\"M 2034 2216 \nQ 1584 2216 1326 1975 \nQ 1069 1734 1069 1313 \nQ 1069 891 1326 650 \nQ 1584 409 2034 409 \nQ 2484 409 2743 651 \nQ 3003 894 3003 1313 \nQ 3003 1734 2745 1975 \nQ 2488 2216 2034 2216 \nz\nM 1403 2484 \nQ 997 2584 770 2862 \nQ 544 3141 544 3541 \nQ 544 4100 942 4425 \nQ 1341 4750 2034 4750 \nQ 2731 4750 3128 4425 \nQ 3525 4100 3525 3541 \nQ 3525 3141 3298 2862 \nQ 3072 2584 2669 2484 \nQ 3125 2378 3379 2068 \nQ 3634 1759 3634 1313 \nQ 3634 634 3220 271 \nQ 2806 -91 2034 -91 \nQ 1263 -91 848 271 \nQ 434 634 434 1313 \nQ 434 1759 690 2068 \nQ 947 2378 1403 2484 \nz\nM 1172 3481 \nQ 1172 3119 1398 2916 \nQ 1625 2713 2034 2713 \nQ 2441 2713 2670 2916 \nQ 2900 3119 2900 3481 \nQ 2900 3844 2670 4047 \nQ 2441 4250 2034 4250 \nQ 1625 4250 1398 4047 \nQ 1172 3844 1172 3481 \nz\n\" id=\"DejaVuSans-38\" transform=\"scale(0.015625)\"/>\n       </defs>\n       <use xlink:href=\"#DejaVuSans-30\"/>\n       <use x=\"63.623047\" xlink:href=\"#DejaVuSans-2e\"/>\n       <use x=\"95.410156\" xlink:href=\"#DejaVuSans-38\"/>\n      </g>\n     </g>\n    </g>\n    <g id=\"xtick_6\">\n     <g id=\"line2d_6\">\n      <g>\n       <use style=\"stroke:#000000;stroke-width:0.8;\" x=\"314.420313\" xlink:href=\"#m1f5955c8d3\" y=\"241.56\"/>\n      </g>\n     </g>\n     <g id=\"text_6\">\n      <!-- 1.0 -->\n      <g transform=\"translate(306.46875 256.158437)scale(0.1 -0.1)\">\n       <defs>\n        <path d=\"M 794 531 \nL 1825 531 \nL 1825 4091 \nL 703 3866 \nL 703 4441 \nL 1819 4666 \nL 2450 4666 \nL 2450 531 \nL 3481 531 \nL 3481 0 \nL 794 0 \nL 794 531 \nz\n\" id=\"DejaVuSans-31\" transform=\"scale(0.015625)\"/>\n       </defs>\n       <use xlink:href=\"#DejaVuSans-31\"/>\n       <use x=\"63.623047\" xlink:href=\"#DejaVuSans-2e\"/>\n       <use x=\"95.410156\" xlink:href=\"#DejaVuSans-30\"/>\n      </g>\n     </g>\n    </g>\n    <g id=\"text_7\">\n     <!-- x in [m] -->\n     <g transform=\"translate(159.053125 269.836562)scale(0.1 -0.1)\">\n      <defs>\n       <path d=\"M 3513 3500 \nL 2247 1797 \nL 3578 0 \nL 2900 0 \nL 1881 1375 \nL 863 0 \nL 184 0 \nL 1544 1831 \nL 300 3500 \nL 978 3500 \nL 1906 2253 \nL 2834 3500 \nL 3513 3500 \nz\n\" id=\"DejaVuSans-78\" transform=\"scale(0.015625)\"/>\n       <path id=\"DejaVuSans-20\" transform=\"scale(0.015625)\"/>\n       <path d=\"M 603 3500 \nL 1178 3500 \nL 1178 0 \nL 603 0 \nL 603 3500 \nz\nM 603 4863 \nL 1178 4863 \nL 1178 4134 \nL 603 4134 \nL 603 4863 \nz\n\" id=\"DejaVuSans-69\" transform=\"scale(0.015625)\"/>\n       <path d=\"M 3513 2113 \nL 3513 0 \nL 2938 0 \nL 2938 2094 \nQ 2938 2591 2744 2837 \nQ 2550 3084 2163 3084 \nQ 1697 3084 1428 2787 \nQ 1159 2491 1159 1978 \nL 1159 0 \nL 581 0 \nL 581 3500 \nL 1159 3500 \nL 1159 2956 \nQ 1366 3272 1645 3428 \nQ 1925 3584 2291 3584 \nQ 2894 3584 3203 3211 \nQ 3513 2838 3513 2113 \nz\n\" id=\"DejaVuSans-6e\" transform=\"scale(0.015625)\"/>\n       <path d=\"M 550 4863 \nL 1875 4863 \nL 1875 4416 \nL 1125 4416 \nL 1125 -397 \nL 1875 -397 \nL 1875 -844 \nL 550 -844 \nL 550 4863 \nz\n\" id=\"DejaVuSans-5b\" transform=\"scale(0.015625)\"/>\n       <path d=\"M 3328 2828 \nQ 3544 3216 3844 3400 \nQ 4144 3584 4550 3584 \nQ 5097 3584 5394 3201 \nQ 5691 2819 5691 2113 \nL 5691 0 \nL 5113 0 \nL 5113 2094 \nQ 5113 2597 4934 2840 \nQ 4756 3084 4391 3084 \nQ 3944 3084 3684 2787 \nQ 3425 2491 3425 1978 \nL 3425 0 \nL 2847 0 \nL 2847 2094 \nQ 2847 2600 2669 2842 \nQ 2491 3084 2119 3084 \nQ 1678 3084 1418 2786 \nQ 1159 2488 1159 1978 \nL 1159 0 \nL 581 0 \nL 581 3500 \nL 1159 3500 \nL 1159 2956 \nQ 1356 3278 1631 3431 \nQ 1906 3584 2284 3584 \nQ 2666 3584 2933 3390 \nQ 3200 3197 3328 2828 \nz\n\" id=\"DejaVuSans-6d\" transform=\"scale(0.015625)\"/>\n       <path d=\"M 1947 4863 \nL 1947 -844 \nL 622 -844 \nL 622 -397 \nL 1369 -397 \nL 1369 4416 \nL 622 4416 \nL 622 4863 \nL 1947 4863 \nz\n\" id=\"DejaVuSans-5d\" transform=\"scale(0.015625)\"/>\n      </defs>\n      <use xlink:href=\"#DejaVuSans-78\"/>\n      <use x=\"59.179688\" xlink:href=\"#DejaVuSans-20\"/>\n      <use x=\"90.966797\" xlink:href=\"#DejaVuSans-69\"/>\n      <use x=\"118.75\" xlink:href=\"#DejaVuSans-6e\"/>\n      <use x=\"182.128906\" xlink:href=\"#DejaVuSans-20\"/>\n      <use x=\"213.916016\" xlink:href=\"#DejaVuSans-5b\"/>\n      <use x=\"252.929688\" xlink:href=\"#DejaVuSans-6d\"/>\n      <use x=\"350.341797\" xlink:href=\"#DejaVuSans-5d\"/>\n     </g>\n    </g>\n    <g id=\"text_8\">\n     <!-- 1e−6 -->\n     <g transform=\"translate(287.1625 268.836562)scale(0.1 -0.1)\">\n      <defs>\n       <path d=\"M 3597 1894 \nL 3597 1613 \nL 953 1613 \nQ 991 1019 1311 708 \nQ 1631 397 2203 397 \nQ 2534 397 2845 478 \nQ 3156 559 3463 722 \nL 3463 178 \nQ 3153 47 2828 -22 \nQ 2503 -91 2169 -91 \nQ 1331 -91 842 396 \nQ 353 884 353 1716 \nQ 353 2575 817 3079 \nQ 1281 3584 2069 3584 \nQ 2775 3584 3186 3129 \nQ 3597 2675 3597 1894 \nz\nM 3022 2063 \nQ 3016 2534 2758 2815 \nQ 2500 3097 2075 3097 \nQ 1594 3097 1305 2825 \nQ 1016 2553 972 2059 \nL 3022 2063 \nz\n\" id=\"DejaVuSans-65\" transform=\"scale(0.015625)\"/>\n       <path d=\"M 678 2272 \nL 4684 2272 \nL 4684 1741 \nL 678 1741 \nL 678 2272 \nz\n\" id=\"DejaVuSans-2212\" transform=\"scale(0.015625)\"/>\n      </defs>\n      <use xlink:href=\"#DejaVuSans-31\"/>\n      <use x=\"63.623047\" xlink:href=\"#DejaVuSans-65\"/>\n      <use x=\"125.146484\" xlink:href=\"#DejaVuSans-2212\"/>\n      <use x=\"208.935547\" xlink:href=\"#DejaVuSans-36\"/>\n     </g>\n    </g>\n   </g>\n   <g id=\"matplotlib.axis_2\">\n    <g id=\"ytick_1\">\n     <g id=\"line2d_7\">\n      <defs>\n       <path d=\"M 0 0 \nL -3.5 0 \n\" id=\"mce6bee542a\" style=\"stroke:#000000;stroke-width:0.8;\"/>\n      </defs>\n      <g>\n       <use style=\"stroke:#000000;stroke-width:0.8;\" x=\"42.620312\" xlink:href=\"#mce6bee542a\" y=\"241.56\"/>\n      </g>\n     </g>\n     <g id=\"text_9\">\n      <!-- −8 -->\n      <g transform=\"translate(20.878125 245.359219)scale(0.1 -0.1)\">\n       <use xlink:href=\"#DejaVuSans-2212\"/>\n       <use x=\"83.789062\" xlink:href=\"#DejaVuSans-38\"/>\n      </g>\n     </g>\n    </g>\n    <g id=\"ytick_2\">\n     <g id=\"line2d_8\">\n      <g>\n       <use style=\"stroke:#000000;stroke-width:0.8;\" x=\"42.620312\" xlink:href=\"#mce6bee542a\" y=\"214.38\"/>\n      </g>\n     </g>\n     <g id=\"text_10\">\n      <!-- −7 -->\n      <g transform=\"translate(20.878125 218.179219)scale(0.1 -0.1)\">\n       <defs>\n        <path d=\"M 525 4666 \nL 3525 4666 \nL 3525 4397 \nL 1831 0 \nL 1172 0 \nL 2766 4134 \nL 525 4134 \nL 525 4666 \nz\n\" id=\"DejaVuSans-37\" transform=\"scale(0.015625)\"/>\n       </defs>\n       <use xlink:href=\"#DejaVuSans-2212\"/>\n       <use x=\"83.789062\" xlink:href=\"#DejaVuSans-37\"/>\n      </g>\n     </g>\n    </g>\n    <g id=\"ytick_3\">\n     <g id=\"line2d_9\">\n      <g>\n       <use style=\"stroke:#000000;stroke-width:0.8;\" x=\"42.620312\" xlink:href=\"#mce6bee542a\" y=\"187.2\"/>\n      </g>\n     </g>\n     <g id=\"text_11\">\n      <!-- −6 -->\n      <g transform=\"translate(20.878125 190.999219)scale(0.1 -0.1)\">\n       <use xlink:href=\"#DejaVuSans-2212\"/>\n       <use x=\"83.789062\" xlink:href=\"#DejaVuSans-36\"/>\n      </g>\n     </g>\n    </g>\n    <g id=\"ytick_4\">\n     <g id=\"line2d_10\">\n      <g>\n       <use style=\"stroke:#000000;stroke-width:0.8;\" x=\"42.620312\" xlink:href=\"#mce6bee542a\" y=\"160.02\"/>\n      </g>\n     </g>\n     <g id=\"text_12\">\n      <!-- −5 -->\n      <g transform=\"translate(20.878125 163.819219)scale(0.1 -0.1)\">\n       <defs>\n        <path d=\"M 691 4666 \nL 3169 4666 \nL 3169 4134 \nL 1269 4134 \nL 1269 2991 \nQ 1406 3038 1543 3061 \nQ 1681 3084 1819 3084 \nQ 2600 3084 3056 2656 \nQ 3513 2228 3513 1497 \nQ 3513 744 3044 326 \nQ 2575 -91 1722 -91 \nQ 1428 -91 1123 -41 \nQ 819 9 494 109 \nL 494 744 \nQ 775 591 1075 516 \nQ 1375 441 1709 441 \nQ 2250 441 2565 725 \nQ 2881 1009 2881 1497 \nQ 2881 1984 2565 2268 \nQ 2250 2553 1709 2553 \nQ 1456 2553 1204 2497 \nQ 953 2441 691 2322 \nL 691 4666 \nz\n\" id=\"DejaVuSans-35\" transform=\"scale(0.015625)\"/>\n       </defs>\n       <use xlink:href=\"#DejaVuSans-2212\"/>\n       <use x=\"83.789062\" xlink:href=\"#DejaVuSans-35\"/>\n      </g>\n     </g>\n    </g>\n    <g id=\"ytick_5\">\n     <g id=\"line2d_11\">\n      <g>\n       <use style=\"stroke:#000000;stroke-width:0.8;\" x=\"42.620312\" xlink:href=\"#mce6bee542a\" y=\"132.84\"/>\n      </g>\n     </g>\n     <g id=\"text_13\">\n      <!-- −4 -->\n      <g transform=\"translate(20.878125 136.639219)scale(0.1 -0.1)\">\n       <use xlink:href=\"#DejaVuSans-2212\"/>\n       <use x=\"83.789062\" xlink:href=\"#DejaVuSans-34\"/>\n      </g>\n     </g>\n    </g>\n    <g id=\"ytick_6\">\n     <g id=\"line2d_12\">\n      <g>\n       <use style=\"stroke:#000000;stroke-width:0.8;\" x=\"42.620312\" xlink:href=\"#mce6bee542a\" y=\"105.66\"/>\n      </g>\n     </g>\n     <g id=\"text_14\">\n      <!-- −3 -->\n      <g transform=\"translate(20.878125 109.459219)scale(0.1 -0.1)\">\n       <defs>\n        <path d=\"M 2597 2516 \nQ 3050 2419 3304 2112 \nQ 3559 1806 3559 1356 \nQ 3559 666 3084 287 \nQ 2609 -91 1734 -91 \nQ 1441 -91 1130 -33 \nQ 819 25 488 141 \nL 488 750 \nQ 750 597 1062 519 \nQ 1375 441 1716 441 \nQ 2309 441 2620 675 \nQ 2931 909 2931 1356 \nQ 2931 1769 2642 2001 \nQ 2353 2234 1838 2234 \nL 1294 2234 \nL 1294 2753 \nL 1863 2753 \nQ 2328 2753 2575 2939 \nQ 2822 3125 2822 3475 \nQ 2822 3834 2567 4026 \nQ 2313 4219 1838 4219 \nQ 1578 4219 1281 4162 \nQ 984 4106 628 3988 \nL 628 4550 \nQ 988 4650 1302 4700 \nQ 1616 4750 1894 4750 \nQ 2613 4750 3031 4423 \nQ 3450 4097 3450 3541 \nQ 3450 3153 3228 2886 \nQ 3006 2619 2597 2516 \nz\n\" id=\"DejaVuSans-33\" transform=\"scale(0.015625)\"/>\n       </defs>\n       <use xlink:href=\"#DejaVuSans-2212\"/>\n       <use x=\"83.789062\" xlink:href=\"#DejaVuSans-33\"/>\n      </g>\n     </g>\n    </g>\n    <g id=\"ytick_7\">\n     <g id=\"line2d_13\">\n      <g>\n       <use style=\"stroke:#000000;stroke-width:0.8;\" x=\"42.620312\" xlink:href=\"#mce6bee542a\" y=\"78.48\"/>\n      </g>\n     </g>\n     <g id=\"text_15\">\n      <!-- −2 -->\n      <g transform=\"translate(20.878125 82.279219)scale(0.1 -0.1)\">\n       <use xlink:href=\"#DejaVuSans-2212\"/>\n       <use x=\"83.789062\" xlink:href=\"#DejaVuSans-32\"/>\n      </g>\n     </g>\n    </g>\n    <g id=\"ytick_8\">\n     <g id=\"line2d_14\">\n      <g>\n       <use style=\"stroke:#000000;stroke-width:0.8;\" x=\"42.620312\" xlink:href=\"#mce6bee542a\" y=\"51.3\"/>\n      </g>\n     </g>\n     <g id=\"text_16\">\n      <!-- −1 -->\n      <g transform=\"translate(20.878125 55.099219)scale(0.1 -0.1)\">\n       <use xlink:href=\"#DejaVuSans-2212\"/>\n       <use x=\"83.789062\" xlink:href=\"#DejaVuSans-31\"/>\n      </g>\n     </g>\n    </g>\n    <g id=\"ytick_9\">\n     <g id=\"line2d_15\">\n      <g>\n       <use style=\"stroke:#000000;stroke-width:0.8;\" x=\"42.620312\" xlink:href=\"#mce6bee542a\" y=\"24.12\"/>\n      </g>\n     </g>\n     <g id=\"text_17\">\n      <!-- 0 -->\n      <g transform=\"translate(29.257812 27.919219)scale(0.1 -0.1)\">\n       <use xlink:href=\"#DejaVuSans-30\"/>\n      </g>\n     </g>\n    </g>\n    <g id=\"text_18\">\n     <!-- y in [m] -->\n     <g transform=\"translate(14.798437 152.307187)rotate(-90)scale(0.1 -0.1)\">\n      <defs>\n       <path d=\"M 2059 -325 \nQ 1816 -950 1584 -1140 \nQ 1353 -1331 966 -1331 \nL 506 -1331 \nL 506 -850 \nL 844 -850 \nQ 1081 -850 1212 -737 \nQ 1344 -625 1503 -206 \nL 1606 56 \nL 191 3500 \nL 800 3500 \nL 1894 763 \nL 2988 3500 \nL 3597 3500 \nL 2059 -325 \nz\n\" id=\"DejaVuSans-79\" transform=\"scale(0.015625)\"/>\n      </defs>\n      <use xlink:href=\"#DejaVuSans-79\"/>\n      <use x=\"59.179688\" xlink:href=\"#DejaVuSans-20\"/>\n      <use x=\"90.966797\" xlink:href=\"#DejaVuSans-69\"/>\n      <use x=\"118.75\" xlink:href=\"#DejaVuSans-6e\"/>\n      <use x=\"182.128906\" xlink:href=\"#DejaVuSans-20\"/>\n      <use x=\"213.916016\" xlink:href=\"#DejaVuSans-5b\"/>\n      <use x=\"252.929688\" xlink:href=\"#DejaVuSans-6d\"/>\n      <use x=\"350.341797\" xlink:href=\"#DejaVuSans-5d\"/>\n     </g>\n    </g>\n    <g id=\"text_19\">\n     <!-- 1e−7 -->\n     <g transform=\"translate(42.620312 21.12)scale(0.1 -0.1)\">\n      <use xlink:href=\"#DejaVuSans-31\"/>\n      <use x=\"63.623047\" xlink:href=\"#DejaVuSans-65\"/>\n      <use x=\"125.146484\" xlink:href=\"#DejaVuSans-2212\"/>\n      <use x=\"208.935547\" xlink:href=\"#DejaVuSans-37\"/>\n     </g>\n    </g>\n   </g>\n   <g id=\"patch_3\">\n    <path d=\"M 42.620312 241.56 \nL 42.620312 24.12 \n\" style=\"fill:none;stroke:#000000;stroke-linecap:square;stroke-linejoin:miter;stroke-width:0.8;\"/>\n   </g>\n   <g id=\"patch_4\">\n    <path d=\"M 314.420313 241.56 \nL 314.420313 24.12 \n\" style=\"fill:none;stroke:#000000;stroke-linecap:square;stroke-linejoin:miter;stroke-width:0.8;\"/>\n   </g>\n   <g id=\"patch_5\">\n    <path d=\"M 42.620312 241.56 \nL 314.420313 241.56 \n\" style=\"fill:none;stroke:#000000;stroke-linecap:square;stroke-linejoin:miter;stroke-width:0.8;\"/>\n   </g>\n   <g id=\"patch_6\">\n    <path d=\"M 42.620312 24.12 \nL 314.420313 24.12 \n\" style=\"fill:none;stroke:#000000;stroke-linecap:square;stroke-linejoin:miter;stroke-width:0.8;\"/>\n   </g>\n   <g id=\"text_20\">\n    <!-- $\\psi^0$ where $\\epsilon = 13.5keV$ -->\n    <g transform=\"translate(113.840312 18.12)scale(0.12 -0.12)\">\n     <defs>\n      <path d=\"M 1591 -78 \nQ 891 38 616 341 \nQ 278 713 425 1472 \nL 819 3500 \nL 1400 3500 \nL 1009 1494 \nQ 900 922 1119 684 \nQ 1313 478 1691 434 \nL 2284 3500 \nL 2856 3500 \nL 2263 438 \nQ 2681 481 2928 688 \nQ 3247 950 3353 1497 \nL 3741 3500 \nL 4322 3500 \nL 3928 1475 \nQ 3775 688 3300 344 \nQ 2872 34 2163 -75 \nL 1919 -1331 \nL 1347 -1331 \nL 1591 -78 \nz\n\" id=\"DejaVuSans-Oblique-3c8\" transform=\"scale(0.015625)\"/>\n      <path d=\"M 269 3500 \nL 844 3500 \nL 1563 769 \nL 2278 3500 \nL 2956 3500 \nL 3675 769 \nL 4391 3500 \nL 4966 3500 \nL 4050 0 \nL 3372 0 \nL 2619 2869 \nL 1863 0 \nL 1184 0 \nL 269 3500 \nz\n\" id=\"DejaVuSans-77\" transform=\"scale(0.015625)\"/>\n      <path d=\"M 3513 2113 \nL 3513 0 \nL 2938 0 \nL 2938 2094 \nQ 2938 2591 2744 2837 \nQ 2550 3084 2163 3084 \nQ 1697 3084 1428 2787 \nQ 1159 2491 1159 1978 \nL 1159 0 \nL 581 0 \nL 581 4863 \nL 1159 4863 \nL 1159 2956 \nQ 1366 3272 1645 3428 \nQ 1925 3584 2291 3584 \nQ 2894 3584 3203 3211 \nQ 3513 2838 3513 2113 \nz\n\" id=\"DejaVuSans-68\" transform=\"scale(0.015625)\"/>\n      <path d=\"M 2631 2963 \nQ 2534 3019 2420 3045 \nQ 2306 3072 2169 3072 \nQ 1681 3072 1420 2755 \nQ 1159 2438 1159 1844 \nL 1159 0 \nL 581 0 \nL 581 3500 \nL 1159 3500 \nL 1159 2956 \nQ 1341 3275 1631 3429 \nQ 1922 3584 2338 3584 \nQ 2397 3584 2469 3576 \nQ 2541 3569 2628 3553 \nL 2631 2963 \nz\n\" id=\"DejaVuSans-72\" transform=\"scale(0.015625)\"/>\n      <path d=\"M 1263 1888 \nQ 925 1963 778 2166 \nQ 669 2309 669 2503 \nQ 669 3034 1175 3344 \nQ 1575 3588 2188 3588 \nQ 2425 3588 2684 3550 \nQ 2944 3513 3234 3438 \nL 3134 2916 \nQ 2847 3006 2606 3047 \nQ 2359 3088 2138 3088 \nQ 1766 3088 1522 2944 \nQ 1228 2772 1228 2522 \nQ 1228 2356 1381 2241 \nQ 1563 2103 1925 2103 \nL 2409 2103 \nL 2319 1628 \nL 1856 1628 \nQ 1425 1628 1172 1469 \nQ 828 1253 828 916 \nQ 828 703 1013 563 \nQ 1244 388 1716 388 \nQ 2006 388 2284 444 \nQ 2563 503 2806 619 \nL 2700 84 \nQ 2403 -3 2131 -47 \nQ 1859 -91 1609 -91 \nQ 866 -91 516 194 \nQ 250 413 250 781 \nQ 250 1278 600 1584 \nQ 859 1813 1263 1888 \nz\n\" id=\"DejaVuSans-Oblique-3b5\" transform=\"scale(0.015625)\"/>\n      <path d=\"M 678 2906 \nL 4684 2906 \nL 4684 2381 \nL 678 2381 \nL 678 2906 \nz\nM 678 1631 \nL 4684 1631 \nL 4684 1100 \nL 678 1100 \nL 678 1631 \nz\n\" id=\"DejaVuSans-3d\" transform=\"scale(0.015625)\"/>\n      <path d=\"M 1172 4863 \nL 1747 4863 \nL 1197 2028 \nL 3169 3500 \nL 3916 3500 \nL 1716 1825 \nL 3322 0 \nL 2625 0 \nL 1131 1709 \nL 800 0 \nL 225 0 \nL 1172 4863 \nz\n\" id=\"DejaVuSans-Oblique-6b\" transform=\"scale(0.015625)\"/>\n      <path d=\"M 3078 2063 \nQ 3088 2113 3092 2166 \nQ 3097 2219 3097 2272 \nQ 3097 2653 2873 2875 \nQ 2650 3097 2266 3097 \nQ 1838 3097 1509 2826 \nQ 1181 2556 1013 2059 \nL 3078 2063 \nz\nM 3578 1613 \nL 903 1613 \nQ 884 1494 878 1425 \nQ 872 1356 872 1306 \nQ 872 872 1139 634 \nQ 1406 397 1894 397 \nQ 2269 397 2603 481 \nQ 2938 566 3225 728 \nL 3116 159 \nQ 2806 34 2476 -28 \nQ 2147 -91 1806 -91 \nQ 1078 -91 686 257 \nQ 294 606 294 1247 \nQ 294 1794 489 2264 \nQ 684 2734 1063 3103 \nQ 1306 3334 1642 3459 \nQ 1978 3584 2356 3584 \nQ 2950 3584 3301 3228 \nQ 3653 2872 3653 2272 \nQ 3653 2128 3634 1964 \nQ 3616 1800 3578 1613 \nz\n\" id=\"DejaVuSans-Oblique-65\" transform=\"scale(0.015625)\"/>\n      <path d=\"M 1319 0 \nL 500 4666 \nL 1119 4666 \nL 1797 653 \nL 4063 4666 \nL 4750 4666 \nL 2053 0 \nL 1319 0 \nz\n\" id=\"DejaVuSans-Oblique-56\" transform=\"scale(0.015625)\"/>\n     </defs>\n     <use transform=\"translate(0 0.765625)\" xlink:href=\"#DejaVuSans-Oblique-3c8\"/>\n     <use transform=\"translate(70.432943 39.046875)scale(0.7)\" xlink:href=\"#DejaVuSans-30\"/>\n     <use transform=\"translate(117.703451 0.765625)\" xlink:href=\"#DejaVuSans-20\"/>\n     <use transform=\"translate(149.49056 0.765625)\" xlink:href=\"#DejaVuSans-77\"/>\n     <use transform=\"translate(231.277669 0.765625)\" xlink:href=\"#DejaVuSans-68\"/>\n     <use transform=\"translate(294.656576 0.765625)\" xlink:href=\"#DejaVuSans-65\"/>\n     <use transform=\"translate(356.180013 0.765625)\" xlink:href=\"#DejaVuSans-72\"/>\n     <use transform=\"translate(397.293294 0.765625)\" xlink:href=\"#DejaVuSans-65\"/>\n     <use transform=\"translate(458.816732 0.765625)\" xlink:href=\"#DejaVuSans-20\"/>\n     <use transform=\"translate(490.603841 0.765625)\" xlink:href=\"#DejaVuSans-Oblique-3b5\"/>\n     <use transform=\"translate(564.138997 0.765625)\" xlink:href=\"#DejaVuSans-3d\"/>\n     <use transform=\"translate(667.410482 0.765625)\" xlink:href=\"#DejaVuSans-31\"/>\n     <use transform=\"translate(731.033529 0.765625)\" xlink:href=\"#DejaVuSans-33\"/>\n     <use transform=\"translate(794.656576 0.765625)\" xlink:href=\"#DejaVuSans-2e\"/>\n     <use transform=\"translate(826.443685 0.765625)\" xlink:href=\"#DejaVuSans-35\"/>\n     <use transform=\"translate(890.066732 0.765625)\" xlink:href=\"#DejaVuSans-Oblique-6b\"/>\n     <use transform=\"translate(947.976888 0.765625)\" xlink:href=\"#DejaVuSans-Oblique-65\"/>\n     <use transform=\"translate(1009.500326 0.765625)\" xlink:href=\"#DejaVuSans-Oblique-56\"/>\n    </g>\n   </g>\n  </g>\n </g>\n <defs>\n  <clipPath id=\"p6f3caeaf25\">\n   <rect height=\"217.44\" width=\"271.8\" x=\"42.620312\" y=\"24.12\"/>\n  </clipPath>\n </defs>\n</svg>\n",
      "image/png": "[encoded data removed]"
     },
     "metadata": {
      "needs_background": "light"
     }
    }
   ],
   "source": [
    "energy_step=50\n",
    "plt.imshow(sol['solution'][energy_step][0, :, :].T, origin=\"lower\", extent=(m.dim_x[0], m.dim_x[1], m.dim_y[0], m.dim_y[1]));\n",
    "plt.xlabel(\"x in [m]\");\n",
    "plt.ylabel(\"y in [m]\");\n",
    "plt.title(\"$\\psi^0$ where $\\epsilon = {:.1f}keV$\".format(e.epsilons_keV[energy_step]));"
   ]
  },
  {
   "source": [
    "Calculation of k_ratios (internally solves the m1model again). Note that the k-ratios are not standardized (only a constant factor is used)."
   ],
   "cell_type": "markdown",
   "metadata": {}
  },
  {
   "cell_type": "code",
   "execution_count": 9,
   "metadata": {},
   "outputs": [
    {
     "output_type": "stream",
     "name": "stdout",
     "text": [
      "calculating forward solution\n"
     ]
    },
    {
     "output_type": "execute_result",
     "data": {
      "text/plain": [
       "DeviceArray([0.36621377, 0.47702644, 0.93333039], dtype=float64)"
      ]
     },
     "metadata": {},
     "execution_count": 9
    }
   ],
   "source": [
    "k = k_ratios(e, params)\n",
    "k"
   ]
  },
  {
   "source": [
    "Calculation of the k-ratios and their jacobian w.r.t. the material parameters. (This might take a while, because jax compiles the derivative functions)\n",
    "The adjoint solution is calculated 3 times, once for each k-ratio (output)."
   ],
   "cell_type": "markdown",
   "metadata": {}
  },
  {
   "cell_type": "code",
   "execution_count": 10,
   "metadata": {},
   "outputs": [
    {
     "output_type": "stream",
     "name": "stdout",
     "text": [
      "solving forward\n",
      "calculating forward solution\n",
      "extraction operator\n",
      "extraction opertator jacobian\n",
      "calculating\n",
      "solving adjoint\n",
      "calculating adjoint solution\n",
      "scalar product jacobian\n",
      "adding to jacobian\n",
      "solving adjoint\n",
      "calculating adjoint solution\n",
      "scalar product jacobian\n",
      "adding to jacobian\n",
      "solving adjoint\n",
      "calculating adjoint solution\n",
      "scalar product jacobian\n",
      "adding to jacobian\n"
     ]
    },
    {
     "output_type": "execute_result",
     "data": {
      "text/plain": [
       "DeviceArray([[[[ 1.13907627,  0.01088031]]],\n",
       "\n",
       "\n",
       "             [[[ 0.04228116,  1.46389582]]],\n",
       "\n",
       "\n",
       "             [[[-2.70486691, -2.75114424]]]], dtype=float64)"
      ]
     },
     "metadata": {},
     "execution_count": 10
    }
   ],
   "source": [
    "k, jac = k_ratios_jacobian(e, params)\n",
    "jac"
   ]
  },
  {
   "cell_type": "code",
   "execution_count": 11,
   "metadata": {},
   "outputs": [
    {
     "output_type": "execute_result",
     "data": {
      "text/plain": [
       "DeviceArray([0.36621377, 0.47702644, 0.93333039], dtype=float64)"
      ]
     },
     "metadata": {},
     "execution_count": 11
    }
   ],
   "source": [
    "k"
   ]
  },
  {
   "cell_type": "code",
   "execution_count": null,
   "metadata": {},
   "outputs": [],
   "source": []
  }
 ]
}